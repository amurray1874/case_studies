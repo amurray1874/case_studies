{
 "cells": [
  {
   "cell_type": "code",
   "execution_count": 1,
   "id": "20eb2264",
   "metadata": {
    "_execution_state": "idle",
    "_uuid": "051d70d956493feee0c6d64651c6a088724dca2a",
    "collapsed": true,
    "execution": {
     "iopub.execute_input": "2023-05-01T20:43:14.171568Z",
     "iopub.status.busy": "2023-05-01T20:43:14.169925Z",
     "iopub.status.idle": "2023-05-01T20:43:15.171018Z",
     "shell.execute_reply": "2023-05-01T20:43:15.169752Z"
    },
    "jupyter": {
     "outputs_hidden": true,
     "source_hidden": true
    },
    "papermill": {
     "duration": 1.017397,
     "end_time": "2023-05-01T20:43:15.173111",
     "exception": false,
     "start_time": "2023-05-01T20:43:14.155714",
     "status": "completed"
    },
    "tags": []
   },
   "outputs": [
    {
     "name": "stderr",
     "output_type": "stream",
     "text": [
      "── \u001b[1mAttaching core tidyverse packages\u001b[22m ──────────────────────── tidyverse 2.0.0 ──\n",
      "\u001b[32m✔\u001b[39m \u001b[34mdplyr    \u001b[39m 1.1.0     \u001b[32m✔\u001b[39m \u001b[34mreadr    \u001b[39m 2.1.4\n",
      "\u001b[32m✔\u001b[39m \u001b[34mforcats  \u001b[39m 1.0.0     \u001b[32m✔\u001b[39m \u001b[34mstringr  \u001b[39m 1.5.0\n",
      "\u001b[32m✔\u001b[39m \u001b[34mggplot2  \u001b[39m 3.4.1     \u001b[32m✔\u001b[39m \u001b[34mtibble   \u001b[39m 3.1.8\n",
      "\u001b[32m✔\u001b[39m \u001b[34mlubridate\u001b[39m 1.9.2     \u001b[32m✔\u001b[39m \u001b[34mtidyr    \u001b[39m 1.3.0\n",
      "\u001b[32m✔\u001b[39m \u001b[34mpurrr    \u001b[39m 1.0.1     \n",
      "── \u001b[1mConflicts\u001b[22m ────────────────────────────────────────── tidyverse_conflicts() ──\n",
      "\u001b[31m✖\u001b[39m \u001b[34mdplyr\u001b[39m::\u001b[32mfilter()\u001b[39m masks \u001b[34mstats\u001b[39m::filter()\n",
      "\u001b[31m✖\u001b[39m \u001b[34mdplyr\u001b[39m::\u001b[32mlag()\u001b[39m    masks \u001b[34mstats\u001b[39m::lag()\n",
      "\u001b[36mℹ\u001b[39m Use the conflicted package (\u001b[3m\u001b[34m<http://conflicted.r-lib.org/>\u001b[39m\u001b[23m) to force all conflicts to become errors\n"
     ]
    },
    {
     "data": {
      "text/html": [
       "'fitbit'"
      ],
      "text/latex": [
       "'fitbit'"
      ],
      "text/markdown": [
       "'fitbit'"
      ],
      "text/plain": [
       "[1] \"fitbit\""
      ]
     },
     "metadata": {},
     "output_type": "display_data"
    }
   ],
   "source": [
    "# This R environment comes with many helpful analytics packages installed\n",
    "# It is defined by the kaggle/rstats Docker image: https://github.com/kaggle/docker-rstats\n",
    "# For example, here's a helpful package to load\n",
    "\n",
    "library(tidyverse) # metapackage of all tidyverse packages\n",
    "\n",
    "# Input data files are available in the read-only \"../input/\" directory\n",
    "# For example, running this (by clicking run or pressing Shift+Enter) will list all files under the input directory\n",
    "\n",
    "list.files(path = \"../input\")\n",
    "\n",
    "# You can write up to 20GB to the current directory (/kaggle/working/) that gets preserved as output when you create a version using \"Save & Run All\" \n",
    "# You can also write temporary files to /kaggle/temp/, but they won't be saved outside of the current session"
   ]
  },
  {
   "cell_type": "markdown",
   "id": "395ebc2e",
   "metadata": {
    "papermill": {
     "duration": 0.012235,
     "end_time": "2023-05-01T20:43:15.198747",
     "exception": false,
     "start_time": "2023-05-01T20:43:15.186512",
     "status": "completed"
    },
    "tags": []
   },
   "source": [
    "# About Bellabeat\n",
    "\n",
    "Bellabeat, founded in 2013 by Urska Srsen and Sando Mur, is a successful high-tech manufacturer of health-focused smart products for women. By 2016 they were positioned globally as a tech-driven wellness company. They now have offices around the world and have multiple products that collect data on user's activity, sleep, stress, and reproductive health. With their beautifully designed technology, their goals are two-fold - empower women around the world with knowledge about their own health and habits AND become a larger player in the global smart device market. \n",
    "\n",
    "Bellebeat's products are available through a growing number of online retailers as well as their own e-commerce channel on their website. While they've invested in traditional advertising medium, most of their marketing is focused on digital platforms. "
   ]
  },
  {
   "cell_type": "markdown",
   "id": "3ef606c7",
   "metadata": {
    "papermill": {
     "duration": 0.011054,
     "end_time": "2023-05-01T20:43:15.221216",
     "exception": false,
     "start_time": "2023-05-01T20:43:15.210162",
     "status": "completed"
    },
    "tags": []
   },
   "source": [
    "# Business Task\n",
    "\n",
    "The objective is to uncover additional opportunities to empower more women around the world about their own health and habits AND become a larger player in the global device market. Srsen believes this is possible with an analysis of Bellabeat's available consumer data. In order to uncover these opportunities, I'll first gather and analyze non-Bellabeat user data to gain insights into how consumers are using other smart devices. I'll then apply this knowledge to one of Bellabeat's products and make high-level recommendations for a marketing strategy.\n",
    "\n",
    "I'll present my findings and recommendations to the following:\n",
    "\n",
    "* Urska Srsen, Co-founder & Chief Creative Officer\n",
    "* Sando Mur, Co-founder & Key Member of Executive Team\n",
    "* Marketing Analytics Team\n",
    "\n",
    "\n"
   ]
  },
  {
   "cell_type": "markdown",
   "id": "898cf2cb",
   "metadata": {
    "papermill": {
     "duration": 0.011279,
     "end_time": "2023-05-01T20:43:15.243646",
     "exception": false,
     "start_time": "2023-05-01T20:43:15.232367",
     "status": "completed"
    },
    "tags": []
   },
   "source": [
    "# Prepare\n",
    "\n",
    "**Data Sources Used** \n",
    "\n",
    "I've been asked to use FitBit Fitness Tracker Data (CC0: Public Domain, dataset made available through Mobius): This Kaggle data set\n",
    "contains personal fitness tracker from thirty fitbit users. These users consented to the submission of personal tracker data, including minute-level output for physical activity, heart rate, and sleep monitoring. It includes information about daily activity, steps, and heart rate that can be used to explore users’ habits.\n",
    "\n",
    "I'm disregarding the csv files with minute and hourly recorded data to focus on the compiled daily data. \n",
    "\n",
    "**Data Credibility & Potential Bias**\n",
    "\n",
    "Some limitations on the data do exist. While the data appears to be comprehensive and cited, it may not be reliable. The sample selection is small (30 participants) and may not be enough to reflect the overall population. Also, it is outdated (2016) and the gender is not specified.  \n",
    "\n",
    "**Data Storage**\n",
    "\n",
    "The data was downloaded directly from Mobius's Kaggle and imported here using R's read.csv. "
   ]
  },
  {
   "cell_type": "markdown",
   "id": "d3fb1756",
   "metadata": {
    "papermill": {
     "duration": 0.011185,
     "end_time": "2023-05-01T20:43:15.266923",
     "exception": false,
     "start_time": "2023-05-01T20:43:15.255738",
     "status": "completed"
    },
    "tags": []
   },
   "source": [
    "\n"
   ]
  },
  {
   "cell_type": "code",
   "execution_count": 2,
   "id": "b362ffc4",
   "metadata": {
    "collapsed": true,
    "execution": {
     "iopub.execute_input": "2023-05-01T20:43:15.313517Z",
     "iopub.status.busy": "2023-05-01T20:43:15.291291Z",
     "iopub.status.idle": "2023-05-01T20:45:15.695217Z",
     "shell.execute_reply": "2023-05-01T20:45:15.693381Z"
    },
    "jupyter": {
     "outputs_hidden": true,
     "source_hidden": true
    },
    "papermill": {
     "duration": 120.420213,
     "end_time": "2023-05-01T20:45:15.698657",
     "exception": false,
     "start_time": "2023-05-01T20:43:15.278444",
     "status": "completed"
    },
    "tags": []
   },
   "outputs": [
    {
     "name": "stderr",
     "output_type": "stream",
     "text": [
      "Installing package into ‘/usr/local/lib/R/site-library’\n",
      "(as ‘lib’ is unspecified)\n",
      "\n",
      "Warning message:\n",
      "“unable to access index for repository http://cran.rstudio.com/src/contrib:\n",
      "  cannot open URL 'http://cran.rstudio.com/src/contrib/PACKAGES'”\n",
      "Warning message:\n",
      "“package ‘skimr’ is not available for this version of R\n",
      "\n",
      "A version of this package for your version of R might be available elsewhere,\n",
      "see the ideas at\n",
      "https://cran.r-project.org/doc/manuals/r-patched/R-admin.html#Installing-packages”\n",
      "Installing package into ‘/usr/local/lib/R/site-library’\n",
      "(as ‘lib’ is unspecified)\n",
      "\n",
      "Warning message:\n",
      "“unable to access index for repository http://cran.rstudio.com/src/contrib:\n",
      "  cannot open URL 'http://cran.rstudio.com/src/contrib/PACKAGES'”\n",
      "Warning message:\n",
      "“package ‘janitor’ is not available for this version of R\n",
      "\n",
      "A version of this package for your version of R might be available elsewhere,\n",
      "see the ideas at\n",
      "https://cran.r-project.org/doc/manuals/r-patched/R-admin.html#Installing-packages”\n",
      "\n",
      "Attaching package: ‘janitor’\n",
      "\n",
      "\n",
      "The following objects are masked from ‘package:stats’:\n",
      "\n",
      "    chisq.test, fisher.test\n",
      "\n",
      "\n"
     ]
    }
   ],
   "source": [
    "# Load skimr for summary statistics and janitor to help with cleaning data\n",
    "\n",
    "install.packages('skimr')\n",
    "install.packages('janitor')\n",
    "library(skimr)\n",
    "library(janitor)"
   ]
  },
  {
   "cell_type": "markdown",
   "id": "850b1fe8",
   "metadata": {
    "papermill": {
     "duration": 0.012093,
     "end_time": "2023-05-01T20:45:15.728637",
     "exception": false,
     "start_time": "2023-05-01T20:45:15.716544",
     "status": "completed"
    },
    "tags": []
   },
   "source": [
    "**1. Import/ read data and rename for clarity and ease of use.**"
   ]
  },
  {
   "cell_type": "code",
   "execution_count": 3,
   "id": "eb71d378",
   "metadata": {
    "execution": {
     "iopub.execute_input": "2023-05-01T20:45:15.756121Z",
     "iopub.status.busy": "2023-05-01T20:45:15.754804Z",
     "iopub.status.idle": "2023-05-01T20:45:15.896468Z",
     "shell.execute_reply": "2023-05-01T20:45:15.894732Z"
    },
    "papermill": {
     "duration": 0.157737,
     "end_time": "2023-05-01T20:45:15.898498",
     "exception": false,
     "start_time": "2023-05-01T20:45:15.740761",
     "status": "completed"
    },
    "tags": []
   },
   "outputs": [],
   "source": [
    "# get datasets and rename\n",
    "daily_activity <- read.csv(\"../input/fitbit/Fitabase Data 4.12.16-5.12.16/dailyActivity_merged.csv\")\n",
    "daily_calories <- read.csv(\"../input/fitbit/Fitabase Data 4.12.16-5.12.16/dailyCalories_merged.csv\")\n",
    "daily_intensities <- read.csv(\"../input/fitbit/Fitabase Data 4.12.16-5.12.16/dailyIntensities_merged.csv\")\n",
    "daily_steps <- read.csv(\"../input/fitbit/Fitabase Data 4.12.16-5.12.16/dailySteps_merged.csv\")\n",
    "daily_sleep <- read.csv(\"../input/fitbit/Fitabase Data 4.12.16-5.12.16/sleepDay_merged.csv\")\n",
    "weight_log <- read.csv(\"../input/fitbit/Fitabase Data 4.12.16-5.12.16/weightLogInfo_merged.csv\")"
   ]
  },
  {
   "cell_type": "markdown",
   "id": "0f397213",
   "metadata": {
    "papermill": {
     "duration": 0.01181,
     "end_time": "2023-05-01T20:45:15.922433",
     "exception": false,
     "start_time": "2023-05-01T20:45:15.910623",
     "status": "completed"
    },
    "tags": []
   },
   "source": [
    "# Process\n",
    "\n",
    "I will be using R programming language with the Tidyverse package. Tidyverse includes the following to help me clean, organize, and process the data:\n",
    "\n",
    "* readr to import csv files\n",
    "* tidyr for data cleaning\n",
    "* dplyr for data manipulation\n",
    "* lubridate to convert date/time\n",
    "* ggplot2 for visualizations"
   ]
  },
  {
   "cell_type": "markdown",
   "id": "2a80aa1b",
   "metadata": {
    "papermill": {
     "duration": 0.011484,
     "end_time": "2023-05-01T20:45:15.945623",
     "exception": false,
     "start_time": "2023-05-01T20:45:15.934139",
     "status": "completed"
    },
    "tags": []
   },
   "source": [
    "**Inspect data to check for missing, null, uneccessary, and insufficient data using head() and glimpse()**"
   ]
  },
  {
   "cell_type": "code",
   "execution_count": 4,
   "id": "fbec56f5",
   "metadata": {
    "execution": {
     "iopub.execute_input": "2023-05-01T20:45:15.971781Z",
     "iopub.status.busy": "2023-05-01T20:45:15.970491Z",
     "iopub.status.idle": "2023-05-01T20:45:16.019849Z",
     "shell.execute_reply": "2023-05-01T20:45:16.018446Z"
    },
    "papermill": {
     "duration": 0.06462,
     "end_time": "2023-05-01T20:45:16.021679",
     "exception": false,
     "start_time": "2023-05-01T20:45:15.957059",
     "status": "completed"
    },
    "tags": []
   },
   "outputs": [
    {
     "data": {
      "text/html": [
       "<table class=\"dataframe\">\n",
       "<caption>A data.frame: 6 × 15</caption>\n",
       "<thead>\n",
       "\t<tr><th></th><th scope=col>Id</th><th scope=col>ActivityDate</th><th scope=col>TotalSteps</th><th scope=col>TotalDistance</th><th scope=col>TrackerDistance</th><th scope=col>LoggedActivitiesDistance</th><th scope=col>VeryActiveDistance</th><th scope=col>ModeratelyActiveDistance</th><th scope=col>LightActiveDistance</th><th scope=col>SedentaryActiveDistance</th><th scope=col>VeryActiveMinutes</th><th scope=col>FairlyActiveMinutes</th><th scope=col>LightlyActiveMinutes</th><th scope=col>SedentaryMinutes</th><th scope=col>Calories</th></tr>\n",
       "\t<tr><th></th><th scope=col>&lt;dbl&gt;</th><th scope=col>&lt;chr&gt;</th><th scope=col>&lt;int&gt;</th><th scope=col>&lt;dbl&gt;</th><th scope=col>&lt;dbl&gt;</th><th scope=col>&lt;dbl&gt;</th><th scope=col>&lt;dbl&gt;</th><th scope=col>&lt;dbl&gt;</th><th scope=col>&lt;dbl&gt;</th><th scope=col>&lt;dbl&gt;</th><th scope=col>&lt;int&gt;</th><th scope=col>&lt;int&gt;</th><th scope=col>&lt;int&gt;</th><th scope=col>&lt;int&gt;</th><th scope=col>&lt;int&gt;</th></tr>\n",
       "</thead>\n",
       "<tbody>\n",
       "\t<tr><th scope=row>1</th><td>1503960366</td><td>4/12/2016</td><td>13162</td><td>8.50</td><td>8.50</td><td>0</td><td>1.88</td><td>0.55</td><td>6.06</td><td>0</td><td>25</td><td>13</td><td>328</td><td> 728</td><td>1985</td></tr>\n",
       "\t<tr><th scope=row>2</th><td>1503960366</td><td>4/13/2016</td><td>10735</td><td>6.97</td><td>6.97</td><td>0</td><td>1.57</td><td>0.69</td><td>4.71</td><td>0</td><td>21</td><td>19</td><td>217</td><td> 776</td><td>1797</td></tr>\n",
       "\t<tr><th scope=row>3</th><td>1503960366</td><td>4/14/2016</td><td>10460</td><td>6.74</td><td>6.74</td><td>0</td><td>2.44</td><td>0.40</td><td>3.91</td><td>0</td><td>30</td><td>11</td><td>181</td><td>1218</td><td>1776</td></tr>\n",
       "\t<tr><th scope=row>4</th><td>1503960366</td><td>4/15/2016</td><td> 9762</td><td>6.28</td><td>6.28</td><td>0</td><td>2.14</td><td>1.26</td><td>2.83</td><td>0</td><td>29</td><td>34</td><td>209</td><td> 726</td><td>1745</td></tr>\n",
       "\t<tr><th scope=row>5</th><td>1503960366</td><td>4/16/2016</td><td>12669</td><td>8.16</td><td>8.16</td><td>0</td><td>2.71</td><td>0.41</td><td>5.04</td><td>0</td><td>36</td><td>10</td><td>221</td><td> 773</td><td>1863</td></tr>\n",
       "\t<tr><th scope=row>6</th><td>1503960366</td><td>4/17/2016</td><td> 9705</td><td>6.48</td><td>6.48</td><td>0</td><td>3.19</td><td>0.78</td><td>2.51</td><td>0</td><td>38</td><td>20</td><td>164</td><td> 539</td><td>1728</td></tr>\n",
       "</tbody>\n",
       "</table>\n"
      ],
      "text/latex": [
       "A data.frame: 6 × 15\n",
       "\\begin{tabular}{r|lllllllllllllll}\n",
       "  & Id & ActivityDate & TotalSteps & TotalDistance & TrackerDistance & LoggedActivitiesDistance & VeryActiveDistance & ModeratelyActiveDistance & LightActiveDistance & SedentaryActiveDistance & VeryActiveMinutes & FairlyActiveMinutes & LightlyActiveMinutes & SedentaryMinutes & Calories\\\\\n",
       "  & <dbl> & <chr> & <int> & <dbl> & <dbl> & <dbl> & <dbl> & <dbl> & <dbl> & <dbl> & <int> & <int> & <int> & <int> & <int>\\\\\n",
       "\\hline\n",
       "\t1 & 1503960366 & 4/12/2016 & 13162 & 8.50 & 8.50 & 0 & 1.88 & 0.55 & 6.06 & 0 & 25 & 13 & 328 &  728 & 1985\\\\\n",
       "\t2 & 1503960366 & 4/13/2016 & 10735 & 6.97 & 6.97 & 0 & 1.57 & 0.69 & 4.71 & 0 & 21 & 19 & 217 &  776 & 1797\\\\\n",
       "\t3 & 1503960366 & 4/14/2016 & 10460 & 6.74 & 6.74 & 0 & 2.44 & 0.40 & 3.91 & 0 & 30 & 11 & 181 & 1218 & 1776\\\\\n",
       "\t4 & 1503960366 & 4/15/2016 &  9762 & 6.28 & 6.28 & 0 & 2.14 & 1.26 & 2.83 & 0 & 29 & 34 & 209 &  726 & 1745\\\\\n",
       "\t5 & 1503960366 & 4/16/2016 & 12669 & 8.16 & 8.16 & 0 & 2.71 & 0.41 & 5.04 & 0 & 36 & 10 & 221 &  773 & 1863\\\\\n",
       "\t6 & 1503960366 & 4/17/2016 &  9705 & 6.48 & 6.48 & 0 & 3.19 & 0.78 & 2.51 & 0 & 38 & 20 & 164 &  539 & 1728\\\\\n",
       "\\end{tabular}\n"
      ],
      "text/markdown": [
       "\n",
       "A data.frame: 6 × 15\n",
       "\n",
       "| <!--/--> | Id &lt;dbl&gt; | ActivityDate &lt;chr&gt; | TotalSteps &lt;int&gt; | TotalDistance &lt;dbl&gt; | TrackerDistance &lt;dbl&gt; | LoggedActivitiesDistance &lt;dbl&gt; | VeryActiveDistance &lt;dbl&gt; | ModeratelyActiveDistance &lt;dbl&gt; | LightActiveDistance &lt;dbl&gt; | SedentaryActiveDistance &lt;dbl&gt; | VeryActiveMinutes &lt;int&gt; | FairlyActiveMinutes &lt;int&gt; | LightlyActiveMinutes &lt;int&gt; | SedentaryMinutes &lt;int&gt; | Calories &lt;int&gt; |\n",
       "|---|---|---|---|---|---|---|---|---|---|---|---|---|---|---|---|\n",
       "| 1 | 1503960366 | 4/12/2016 | 13162 | 8.50 | 8.50 | 0 | 1.88 | 0.55 | 6.06 | 0 | 25 | 13 | 328 |  728 | 1985 |\n",
       "| 2 | 1503960366 | 4/13/2016 | 10735 | 6.97 | 6.97 | 0 | 1.57 | 0.69 | 4.71 | 0 | 21 | 19 | 217 |  776 | 1797 |\n",
       "| 3 | 1503960366 | 4/14/2016 | 10460 | 6.74 | 6.74 | 0 | 2.44 | 0.40 | 3.91 | 0 | 30 | 11 | 181 | 1218 | 1776 |\n",
       "| 4 | 1503960366 | 4/15/2016 |  9762 | 6.28 | 6.28 | 0 | 2.14 | 1.26 | 2.83 | 0 | 29 | 34 | 209 |  726 | 1745 |\n",
       "| 5 | 1503960366 | 4/16/2016 | 12669 | 8.16 | 8.16 | 0 | 2.71 | 0.41 | 5.04 | 0 | 36 | 10 | 221 |  773 | 1863 |\n",
       "| 6 | 1503960366 | 4/17/2016 |  9705 | 6.48 | 6.48 | 0 | 3.19 | 0.78 | 2.51 | 0 | 38 | 20 | 164 |  539 | 1728 |\n",
       "\n"
      ],
      "text/plain": [
       "  Id         ActivityDate TotalSteps TotalDistance TrackerDistance\n",
       "1 1503960366 4/12/2016    13162      8.50          8.50           \n",
       "2 1503960366 4/13/2016    10735      6.97          6.97           \n",
       "3 1503960366 4/14/2016    10460      6.74          6.74           \n",
       "4 1503960366 4/15/2016     9762      6.28          6.28           \n",
       "5 1503960366 4/16/2016    12669      8.16          8.16           \n",
       "6 1503960366 4/17/2016     9705      6.48          6.48           \n",
       "  LoggedActivitiesDistance VeryActiveDistance ModeratelyActiveDistance\n",
       "1 0                        1.88               0.55                    \n",
       "2 0                        1.57               0.69                    \n",
       "3 0                        2.44               0.40                    \n",
       "4 0                        2.14               1.26                    \n",
       "5 0                        2.71               0.41                    \n",
       "6 0                        3.19               0.78                    \n",
       "  LightActiveDistance SedentaryActiveDistance VeryActiveMinutes\n",
       "1 6.06                0                       25               \n",
       "2 4.71                0                       21               \n",
       "3 3.91                0                       30               \n",
       "4 2.83                0                       29               \n",
       "5 5.04                0                       36               \n",
       "6 2.51                0                       38               \n",
       "  FairlyActiveMinutes LightlyActiveMinutes SedentaryMinutes Calories\n",
       "1 13                  328                   728             1985    \n",
       "2 19                  217                   776             1797    \n",
       "3 11                  181                  1218             1776    \n",
       "4 34                  209                   726             1745    \n",
       "5 10                  221                   773             1863    \n",
       "6 20                  164                   539             1728    "
      ]
     },
     "metadata": {},
     "output_type": "display_data"
    },
    {
     "name": "stdout",
     "output_type": "stream",
     "text": [
      "Rows: 940\n",
      "Columns: 15\n",
      "$ Id                       \u001b[3m\u001b[90m<dbl>\u001b[39m\u001b[23m 1503960366, 1503960366, 1503960366, 150396036…\n",
      "$ ActivityDate             \u001b[3m\u001b[90m<chr>\u001b[39m\u001b[23m \"4/12/2016\", \"4/13/2016\", \"4/14/2016\", \"4/15/…\n",
      "$ TotalSteps               \u001b[3m\u001b[90m<int>\u001b[39m\u001b[23m 13162, 10735, 10460, 9762, 12669, 9705, 13019…\n",
      "$ TotalDistance            \u001b[3m\u001b[90m<dbl>\u001b[39m\u001b[23m 8.50, 6.97, 6.74, 6.28, 8.16, 6.48, 8.59, 9.8…\n",
      "$ TrackerDistance          \u001b[3m\u001b[90m<dbl>\u001b[39m\u001b[23m 8.50, 6.97, 6.74, 6.28, 8.16, 6.48, 8.59, 9.8…\n",
      "$ LoggedActivitiesDistance \u001b[3m\u001b[90m<dbl>\u001b[39m\u001b[23m 0, 0, 0, 0, 0, 0, 0, 0, 0, 0, 0, 0, 0, 0, 0, …\n",
      "$ VeryActiveDistance       \u001b[3m\u001b[90m<dbl>\u001b[39m\u001b[23m 1.88, 1.57, 2.44, 2.14, 2.71, 3.19, 3.25, 3.5…\n",
      "$ ModeratelyActiveDistance \u001b[3m\u001b[90m<dbl>\u001b[39m\u001b[23m 0.55, 0.69, 0.40, 1.26, 0.41, 0.78, 0.64, 1.3…\n",
      "$ LightActiveDistance      \u001b[3m\u001b[90m<dbl>\u001b[39m\u001b[23m 6.06, 4.71, 3.91, 2.83, 5.04, 2.51, 4.71, 5.0…\n",
      "$ SedentaryActiveDistance  \u001b[3m\u001b[90m<dbl>\u001b[39m\u001b[23m 0, 0, 0, 0, 0, 0, 0, 0, 0, 0, 0, 0, 0, 0, 0, …\n",
      "$ VeryActiveMinutes        \u001b[3m\u001b[90m<int>\u001b[39m\u001b[23m 25, 21, 30, 29, 36, 38, 42, 50, 28, 19, 66, 4…\n",
      "$ FairlyActiveMinutes      \u001b[3m\u001b[90m<int>\u001b[39m\u001b[23m 13, 19, 11, 34, 10, 20, 16, 31, 12, 8, 27, 21…\n",
      "$ LightlyActiveMinutes     \u001b[3m\u001b[90m<int>\u001b[39m\u001b[23m 328, 217, 181, 209, 221, 164, 233, 264, 205, …\n",
      "$ SedentaryMinutes         \u001b[3m\u001b[90m<int>\u001b[39m\u001b[23m 728, 776, 1218, 726, 773, 539, 1149, 775, 818…\n",
      "$ Calories                 \u001b[3m\u001b[90m<int>\u001b[39m\u001b[23m 1985, 1797, 1776, 1745, 1863, 1728, 1921, 203…\n"
     ]
    }
   ],
   "source": [
    "# inspect data\n",
    "head(daily_activity)\n",
    "glimpse(daily_activity)"
   ]
  },
  {
   "cell_type": "code",
   "execution_count": 5,
   "id": "26bfeef4",
   "metadata": {
    "execution": {
     "iopub.execute_input": "2023-05-01T20:45:16.049629Z",
     "iopub.status.busy": "2023-05-01T20:45:16.048251Z",
     "iopub.status.idle": "2023-05-01T20:45:16.076259Z",
     "shell.execute_reply": "2023-05-01T20:45:16.074777Z"
    },
    "papermill": {
     "duration": 0.045001,
     "end_time": "2023-05-01T20:45:16.079152",
     "exception": false,
     "start_time": "2023-05-01T20:45:16.034151",
     "status": "completed"
    },
    "tags": []
   },
   "outputs": [
    {
     "data": {
      "text/html": [
       "<table class=\"dataframe\">\n",
       "<caption>A data.frame: 6 × 3</caption>\n",
       "<thead>\n",
       "\t<tr><th></th><th scope=col>Id</th><th scope=col>ActivityDay</th><th scope=col>Calories</th></tr>\n",
       "\t<tr><th></th><th scope=col>&lt;dbl&gt;</th><th scope=col>&lt;chr&gt;</th><th scope=col>&lt;int&gt;</th></tr>\n",
       "</thead>\n",
       "<tbody>\n",
       "\t<tr><th scope=row>1</th><td>1503960366</td><td>4/12/2016</td><td>1985</td></tr>\n",
       "\t<tr><th scope=row>2</th><td>1503960366</td><td>4/13/2016</td><td>1797</td></tr>\n",
       "\t<tr><th scope=row>3</th><td>1503960366</td><td>4/14/2016</td><td>1776</td></tr>\n",
       "\t<tr><th scope=row>4</th><td>1503960366</td><td>4/15/2016</td><td>1745</td></tr>\n",
       "\t<tr><th scope=row>5</th><td>1503960366</td><td>4/16/2016</td><td>1863</td></tr>\n",
       "\t<tr><th scope=row>6</th><td>1503960366</td><td>4/17/2016</td><td>1728</td></tr>\n",
       "</tbody>\n",
       "</table>\n"
      ],
      "text/latex": [
       "A data.frame: 6 × 3\n",
       "\\begin{tabular}{r|lll}\n",
       "  & Id & ActivityDay & Calories\\\\\n",
       "  & <dbl> & <chr> & <int>\\\\\n",
       "\\hline\n",
       "\t1 & 1503960366 & 4/12/2016 & 1985\\\\\n",
       "\t2 & 1503960366 & 4/13/2016 & 1797\\\\\n",
       "\t3 & 1503960366 & 4/14/2016 & 1776\\\\\n",
       "\t4 & 1503960366 & 4/15/2016 & 1745\\\\\n",
       "\t5 & 1503960366 & 4/16/2016 & 1863\\\\\n",
       "\t6 & 1503960366 & 4/17/2016 & 1728\\\\\n",
       "\\end{tabular}\n"
      ],
      "text/markdown": [
       "\n",
       "A data.frame: 6 × 3\n",
       "\n",
       "| <!--/--> | Id &lt;dbl&gt; | ActivityDay &lt;chr&gt; | Calories &lt;int&gt; |\n",
       "|---|---|---|---|\n",
       "| 1 | 1503960366 | 4/12/2016 | 1985 |\n",
       "| 2 | 1503960366 | 4/13/2016 | 1797 |\n",
       "| 3 | 1503960366 | 4/14/2016 | 1776 |\n",
       "| 4 | 1503960366 | 4/15/2016 | 1745 |\n",
       "| 5 | 1503960366 | 4/16/2016 | 1863 |\n",
       "| 6 | 1503960366 | 4/17/2016 | 1728 |\n",
       "\n"
      ],
      "text/plain": [
       "  Id         ActivityDay Calories\n",
       "1 1503960366 4/12/2016   1985    \n",
       "2 1503960366 4/13/2016   1797    \n",
       "3 1503960366 4/14/2016   1776    \n",
       "4 1503960366 4/15/2016   1745    \n",
       "5 1503960366 4/16/2016   1863    \n",
       "6 1503960366 4/17/2016   1728    "
      ]
     },
     "metadata": {},
     "output_type": "display_data"
    },
    {
     "name": "stdout",
     "output_type": "stream",
     "text": [
      "Rows: 940\n",
      "Columns: 3\n",
      "$ Id          \u001b[3m\u001b[90m<dbl>\u001b[39m\u001b[23m 1503960366, 1503960366, 1503960366, 1503960366, 1503960366…\n",
      "$ ActivityDay \u001b[3m\u001b[90m<chr>\u001b[39m\u001b[23m \"4/12/2016\", \"4/13/2016\", \"4/14/2016\", \"4/15/2016\", \"4/16/…\n",
      "$ Calories    \u001b[3m\u001b[90m<int>\u001b[39m\u001b[23m 1985, 1797, 1776, 1745, 1863, 1728, 1921, 2035, 1786, 1775…\n"
     ]
    }
   ],
   "source": [
    "head(daily_calories)\n",
    "glimpse(daily_calories)"
   ]
  },
  {
   "cell_type": "code",
   "execution_count": 6,
   "id": "2b3174e7",
   "metadata": {
    "execution": {
     "iopub.execute_input": "2023-05-01T20:45:16.109157Z",
     "iopub.status.busy": "2023-05-01T20:45:16.107808Z",
     "iopub.status.idle": "2023-05-01T20:45:16.146444Z",
     "shell.execute_reply": "2023-05-01T20:45:16.145164Z"
    },
    "papermill": {
     "duration": 0.056932,
     "end_time": "2023-05-01T20:45:16.149007",
     "exception": false,
     "start_time": "2023-05-01T20:45:16.092075",
     "status": "completed"
    },
    "tags": []
   },
   "outputs": [
    {
     "data": {
      "text/html": [
       "<table class=\"dataframe\">\n",
       "<caption>A data.frame: 6 × 10</caption>\n",
       "<thead>\n",
       "\t<tr><th></th><th scope=col>Id</th><th scope=col>ActivityDay</th><th scope=col>SedentaryMinutes</th><th scope=col>LightlyActiveMinutes</th><th scope=col>FairlyActiveMinutes</th><th scope=col>VeryActiveMinutes</th><th scope=col>SedentaryActiveDistance</th><th scope=col>LightActiveDistance</th><th scope=col>ModeratelyActiveDistance</th><th scope=col>VeryActiveDistance</th></tr>\n",
       "\t<tr><th></th><th scope=col>&lt;dbl&gt;</th><th scope=col>&lt;chr&gt;</th><th scope=col>&lt;int&gt;</th><th scope=col>&lt;int&gt;</th><th scope=col>&lt;int&gt;</th><th scope=col>&lt;int&gt;</th><th scope=col>&lt;dbl&gt;</th><th scope=col>&lt;dbl&gt;</th><th scope=col>&lt;dbl&gt;</th><th scope=col>&lt;dbl&gt;</th></tr>\n",
       "</thead>\n",
       "<tbody>\n",
       "\t<tr><th scope=row>1</th><td>1503960366</td><td>4/12/2016</td><td> 728</td><td>328</td><td>13</td><td>25</td><td>0</td><td>6.06</td><td>0.55</td><td>1.88</td></tr>\n",
       "\t<tr><th scope=row>2</th><td>1503960366</td><td>4/13/2016</td><td> 776</td><td>217</td><td>19</td><td>21</td><td>0</td><td>4.71</td><td>0.69</td><td>1.57</td></tr>\n",
       "\t<tr><th scope=row>3</th><td>1503960366</td><td>4/14/2016</td><td>1218</td><td>181</td><td>11</td><td>30</td><td>0</td><td>3.91</td><td>0.40</td><td>2.44</td></tr>\n",
       "\t<tr><th scope=row>4</th><td>1503960366</td><td>4/15/2016</td><td> 726</td><td>209</td><td>34</td><td>29</td><td>0</td><td>2.83</td><td>1.26</td><td>2.14</td></tr>\n",
       "\t<tr><th scope=row>5</th><td>1503960366</td><td>4/16/2016</td><td> 773</td><td>221</td><td>10</td><td>36</td><td>0</td><td>5.04</td><td>0.41</td><td>2.71</td></tr>\n",
       "\t<tr><th scope=row>6</th><td>1503960366</td><td>4/17/2016</td><td> 539</td><td>164</td><td>20</td><td>38</td><td>0</td><td>2.51</td><td>0.78</td><td>3.19</td></tr>\n",
       "</tbody>\n",
       "</table>\n"
      ],
      "text/latex": [
       "A data.frame: 6 × 10\n",
       "\\begin{tabular}{r|llllllllll}\n",
       "  & Id & ActivityDay & SedentaryMinutes & LightlyActiveMinutes & FairlyActiveMinutes & VeryActiveMinutes & SedentaryActiveDistance & LightActiveDistance & ModeratelyActiveDistance & VeryActiveDistance\\\\\n",
       "  & <dbl> & <chr> & <int> & <int> & <int> & <int> & <dbl> & <dbl> & <dbl> & <dbl>\\\\\n",
       "\\hline\n",
       "\t1 & 1503960366 & 4/12/2016 &  728 & 328 & 13 & 25 & 0 & 6.06 & 0.55 & 1.88\\\\\n",
       "\t2 & 1503960366 & 4/13/2016 &  776 & 217 & 19 & 21 & 0 & 4.71 & 0.69 & 1.57\\\\\n",
       "\t3 & 1503960366 & 4/14/2016 & 1218 & 181 & 11 & 30 & 0 & 3.91 & 0.40 & 2.44\\\\\n",
       "\t4 & 1503960366 & 4/15/2016 &  726 & 209 & 34 & 29 & 0 & 2.83 & 1.26 & 2.14\\\\\n",
       "\t5 & 1503960366 & 4/16/2016 &  773 & 221 & 10 & 36 & 0 & 5.04 & 0.41 & 2.71\\\\\n",
       "\t6 & 1503960366 & 4/17/2016 &  539 & 164 & 20 & 38 & 0 & 2.51 & 0.78 & 3.19\\\\\n",
       "\\end{tabular}\n"
      ],
      "text/markdown": [
       "\n",
       "A data.frame: 6 × 10\n",
       "\n",
       "| <!--/--> | Id &lt;dbl&gt; | ActivityDay &lt;chr&gt; | SedentaryMinutes &lt;int&gt; | LightlyActiveMinutes &lt;int&gt; | FairlyActiveMinutes &lt;int&gt; | VeryActiveMinutes &lt;int&gt; | SedentaryActiveDistance &lt;dbl&gt; | LightActiveDistance &lt;dbl&gt; | ModeratelyActiveDistance &lt;dbl&gt; | VeryActiveDistance &lt;dbl&gt; |\n",
       "|---|---|---|---|---|---|---|---|---|---|---|\n",
       "| 1 | 1503960366 | 4/12/2016 |  728 | 328 | 13 | 25 | 0 | 6.06 | 0.55 | 1.88 |\n",
       "| 2 | 1503960366 | 4/13/2016 |  776 | 217 | 19 | 21 | 0 | 4.71 | 0.69 | 1.57 |\n",
       "| 3 | 1503960366 | 4/14/2016 | 1218 | 181 | 11 | 30 | 0 | 3.91 | 0.40 | 2.44 |\n",
       "| 4 | 1503960366 | 4/15/2016 |  726 | 209 | 34 | 29 | 0 | 2.83 | 1.26 | 2.14 |\n",
       "| 5 | 1503960366 | 4/16/2016 |  773 | 221 | 10 | 36 | 0 | 5.04 | 0.41 | 2.71 |\n",
       "| 6 | 1503960366 | 4/17/2016 |  539 | 164 | 20 | 38 | 0 | 2.51 | 0.78 | 3.19 |\n",
       "\n"
      ],
      "text/plain": [
       "  Id         ActivityDay SedentaryMinutes LightlyActiveMinutes\n",
       "1 1503960366 4/12/2016    728             328                 \n",
       "2 1503960366 4/13/2016    776             217                 \n",
       "3 1503960366 4/14/2016   1218             181                 \n",
       "4 1503960366 4/15/2016    726             209                 \n",
       "5 1503960366 4/16/2016    773             221                 \n",
       "6 1503960366 4/17/2016    539             164                 \n",
       "  FairlyActiveMinutes VeryActiveMinutes SedentaryActiveDistance\n",
       "1 13                  25                0                      \n",
       "2 19                  21                0                      \n",
       "3 11                  30                0                      \n",
       "4 34                  29                0                      \n",
       "5 10                  36                0                      \n",
       "6 20                  38                0                      \n",
       "  LightActiveDistance ModeratelyActiveDistance VeryActiveDistance\n",
       "1 6.06                0.55                     1.88              \n",
       "2 4.71                0.69                     1.57              \n",
       "3 3.91                0.40                     2.44              \n",
       "4 2.83                1.26                     2.14              \n",
       "5 5.04                0.41                     2.71              \n",
       "6 2.51                0.78                     3.19              "
      ]
     },
     "metadata": {},
     "output_type": "display_data"
    },
    {
     "name": "stdout",
     "output_type": "stream",
     "text": [
      "Rows: 940\n",
      "Columns: 10\n",
      "$ Id                       \u001b[3m\u001b[90m<dbl>\u001b[39m\u001b[23m 1503960366, 1503960366, 1503960366, 150396036…\n",
      "$ ActivityDay              \u001b[3m\u001b[90m<chr>\u001b[39m\u001b[23m \"4/12/2016\", \"4/13/2016\", \"4/14/2016\", \"4/15/…\n",
      "$ SedentaryMinutes         \u001b[3m\u001b[90m<int>\u001b[39m\u001b[23m 728, 776, 1218, 726, 773, 539, 1149, 775, 818…\n",
      "$ LightlyActiveMinutes     \u001b[3m\u001b[90m<int>\u001b[39m\u001b[23m 328, 217, 181, 209, 221, 164, 233, 264, 205, …\n",
      "$ FairlyActiveMinutes      \u001b[3m\u001b[90m<int>\u001b[39m\u001b[23m 13, 19, 11, 34, 10, 20, 16, 31, 12, 8, 27, 21…\n",
      "$ VeryActiveMinutes        \u001b[3m\u001b[90m<int>\u001b[39m\u001b[23m 25, 21, 30, 29, 36, 38, 42, 50, 28, 19, 66, 4…\n",
      "$ SedentaryActiveDistance  \u001b[3m\u001b[90m<dbl>\u001b[39m\u001b[23m 0, 0, 0, 0, 0, 0, 0, 0, 0, 0, 0, 0, 0, 0, 0, …\n",
      "$ LightActiveDistance      \u001b[3m\u001b[90m<dbl>\u001b[39m\u001b[23m 6.06, 4.71, 3.91, 2.83, 5.04, 2.51, 4.71, 5.0…\n",
      "$ ModeratelyActiveDistance \u001b[3m\u001b[90m<dbl>\u001b[39m\u001b[23m 0.55, 0.69, 0.40, 1.26, 0.41, 0.78, 0.64, 1.3…\n",
      "$ VeryActiveDistance       \u001b[3m\u001b[90m<dbl>\u001b[39m\u001b[23m 1.88, 1.57, 2.44, 2.14, 2.71, 3.19, 3.25, 3.5…\n"
     ]
    }
   ],
   "source": [
    "head(daily_intensities)\n",
    "glimpse(daily_intensities)"
   ]
  },
  {
   "cell_type": "code",
   "execution_count": 7,
   "id": "b53b5c14",
   "metadata": {
    "execution": {
     "iopub.execute_input": "2023-05-01T20:45:16.179153Z",
     "iopub.status.busy": "2023-05-01T20:45:16.177854Z",
     "iopub.status.idle": "2023-05-01T20:45:16.205595Z",
     "shell.execute_reply": "2023-05-01T20:45:16.204121Z"
    },
    "papermill": {
     "duration": 0.045277,
     "end_time": "2023-05-01T20:45:16.207353",
     "exception": false,
     "start_time": "2023-05-01T20:45:16.162076",
     "status": "completed"
    },
    "tags": []
   },
   "outputs": [
    {
     "data": {
      "text/html": [
       "<table class=\"dataframe\">\n",
       "<caption>A data.frame: 6 × 3</caption>\n",
       "<thead>\n",
       "\t<tr><th></th><th scope=col>Id</th><th scope=col>ActivityDay</th><th scope=col>StepTotal</th></tr>\n",
       "\t<tr><th></th><th scope=col>&lt;dbl&gt;</th><th scope=col>&lt;chr&gt;</th><th scope=col>&lt;int&gt;</th></tr>\n",
       "</thead>\n",
       "<tbody>\n",
       "\t<tr><th scope=row>1</th><td>1503960366</td><td>4/12/2016</td><td>13162</td></tr>\n",
       "\t<tr><th scope=row>2</th><td>1503960366</td><td>4/13/2016</td><td>10735</td></tr>\n",
       "\t<tr><th scope=row>3</th><td>1503960366</td><td>4/14/2016</td><td>10460</td></tr>\n",
       "\t<tr><th scope=row>4</th><td>1503960366</td><td>4/15/2016</td><td> 9762</td></tr>\n",
       "\t<tr><th scope=row>5</th><td>1503960366</td><td>4/16/2016</td><td>12669</td></tr>\n",
       "\t<tr><th scope=row>6</th><td>1503960366</td><td>4/17/2016</td><td> 9705</td></tr>\n",
       "</tbody>\n",
       "</table>\n"
      ],
      "text/latex": [
       "A data.frame: 6 × 3\n",
       "\\begin{tabular}{r|lll}\n",
       "  & Id & ActivityDay & StepTotal\\\\\n",
       "  & <dbl> & <chr> & <int>\\\\\n",
       "\\hline\n",
       "\t1 & 1503960366 & 4/12/2016 & 13162\\\\\n",
       "\t2 & 1503960366 & 4/13/2016 & 10735\\\\\n",
       "\t3 & 1503960366 & 4/14/2016 & 10460\\\\\n",
       "\t4 & 1503960366 & 4/15/2016 &  9762\\\\\n",
       "\t5 & 1503960366 & 4/16/2016 & 12669\\\\\n",
       "\t6 & 1503960366 & 4/17/2016 &  9705\\\\\n",
       "\\end{tabular}\n"
      ],
      "text/markdown": [
       "\n",
       "A data.frame: 6 × 3\n",
       "\n",
       "| <!--/--> | Id &lt;dbl&gt; | ActivityDay &lt;chr&gt; | StepTotal &lt;int&gt; |\n",
       "|---|---|---|---|\n",
       "| 1 | 1503960366 | 4/12/2016 | 13162 |\n",
       "| 2 | 1503960366 | 4/13/2016 | 10735 |\n",
       "| 3 | 1503960366 | 4/14/2016 | 10460 |\n",
       "| 4 | 1503960366 | 4/15/2016 |  9762 |\n",
       "| 5 | 1503960366 | 4/16/2016 | 12669 |\n",
       "| 6 | 1503960366 | 4/17/2016 |  9705 |\n",
       "\n"
      ],
      "text/plain": [
       "  Id         ActivityDay StepTotal\n",
       "1 1503960366 4/12/2016   13162    \n",
       "2 1503960366 4/13/2016   10735    \n",
       "3 1503960366 4/14/2016   10460    \n",
       "4 1503960366 4/15/2016    9762    \n",
       "5 1503960366 4/16/2016   12669    \n",
       "6 1503960366 4/17/2016    9705    "
      ]
     },
     "metadata": {},
     "output_type": "display_data"
    },
    {
     "name": "stdout",
     "output_type": "stream",
     "text": [
      "Rows: 940\n",
      "Columns: 3\n",
      "$ Id          \u001b[3m\u001b[90m<dbl>\u001b[39m\u001b[23m 1503960366, 1503960366, 1503960366, 1503960366, 1503960366…\n",
      "$ ActivityDay \u001b[3m\u001b[90m<chr>\u001b[39m\u001b[23m \"4/12/2016\", \"4/13/2016\", \"4/14/2016\", \"4/15/2016\", \"4/16/…\n",
      "$ StepTotal   \u001b[3m\u001b[90m<int>\u001b[39m\u001b[23m 13162, 10735, 10460, 9762, 12669, 9705, 13019, 15506, 1054…\n"
     ]
    }
   ],
   "source": [
    "head(daily_steps)\n",
    "glimpse(daily_steps)"
   ]
  },
  {
   "cell_type": "code",
   "execution_count": 8,
   "id": "9198f4f3",
   "metadata": {
    "execution": {
     "iopub.execute_input": "2023-05-01T20:45:16.236675Z",
     "iopub.status.busy": "2023-05-01T20:45:16.235316Z",
     "iopub.status.idle": "2023-05-01T20:45:16.262927Z",
     "shell.execute_reply": "2023-05-01T20:45:16.261562Z"
    },
    "papermill": {
     "duration": 0.044371,
     "end_time": "2023-05-01T20:45:16.265048",
     "exception": false,
     "start_time": "2023-05-01T20:45:16.220677",
     "status": "completed"
    },
    "tags": []
   },
   "outputs": [
    {
     "data": {
      "text/html": [
       "<table class=\"dataframe\">\n",
       "<caption>A data.frame: 6 × 5</caption>\n",
       "<thead>\n",
       "\t<tr><th></th><th scope=col>Id</th><th scope=col>SleepDay</th><th scope=col>TotalSleepRecords</th><th scope=col>TotalMinutesAsleep</th><th scope=col>TotalTimeInBed</th></tr>\n",
       "\t<tr><th></th><th scope=col>&lt;dbl&gt;</th><th scope=col>&lt;chr&gt;</th><th scope=col>&lt;int&gt;</th><th scope=col>&lt;int&gt;</th><th scope=col>&lt;int&gt;</th></tr>\n",
       "</thead>\n",
       "<tbody>\n",
       "\t<tr><th scope=row>1</th><td>1503960366</td><td>4/12/2016 12:00:00 AM</td><td>1</td><td>327</td><td>346</td></tr>\n",
       "\t<tr><th scope=row>2</th><td>1503960366</td><td>4/13/2016 12:00:00 AM</td><td>2</td><td>384</td><td>407</td></tr>\n",
       "\t<tr><th scope=row>3</th><td>1503960366</td><td>4/15/2016 12:00:00 AM</td><td>1</td><td>412</td><td>442</td></tr>\n",
       "\t<tr><th scope=row>4</th><td>1503960366</td><td>4/16/2016 12:00:00 AM</td><td>2</td><td>340</td><td>367</td></tr>\n",
       "\t<tr><th scope=row>5</th><td>1503960366</td><td>4/17/2016 12:00:00 AM</td><td>1</td><td>700</td><td>712</td></tr>\n",
       "\t<tr><th scope=row>6</th><td>1503960366</td><td>4/19/2016 12:00:00 AM</td><td>1</td><td>304</td><td>320</td></tr>\n",
       "</tbody>\n",
       "</table>\n"
      ],
      "text/latex": [
       "A data.frame: 6 × 5\n",
       "\\begin{tabular}{r|lllll}\n",
       "  & Id & SleepDay & TotalSleepRecords & TotalMinutesAsleep & TotalTimeInBed\\\\\n",
       "  & <dbl> & <chr> & <int> & <int> & <int>\\\\\n",
       "\\hline\n",
       "\t1 & 1503960366 & 4/12/2016 12:00:00 AM & 1 & 327 & 346\\\\\n",
       "\t2 & 1503960366 & 4/13/2016 12:00:00 AM & 2 & 384 & 407\\\\\n",
       "\t3 & 1503960366 & 4/15/2016 12:00:00 AM & 1 & 412 & 442\\\\\n",
       "\t4 & 1503960366 & 4/16/2016 12:00:00 AM & 2 & 340 & 367\\\\\n",
       "\t5 & 1503960366 & 4/17/2016 12:00:00 AM & 1 & 700 & 712\\\\\n",
       "\t6 & 1503960366 & 4/19/2016 12:00:00 AM & 1 & 304 & 320\\\\\n",
       "\\end{tabular}\n"
      ],
      "text/markdown": [
       "\n",
       "A data.frame: 6 × 5\n",
       "\n",
       "| <!--/--> | Id &lt;dbl&gt; | SleepDay &lt;chr&gt; | TotalSleepRecords &lt;int&gt; | TotalMinutesAsleep &lt;int&gt; | TotalTimeInBed &lt;int&gt; |\n",
       "|---|---|---|---|---|---|\n",
       "| 1 | 1503960366 | 4/12/2016 12:00:00 AM | 1 | 327 | 346 |\n",
       "| 2 | 1503960366 | 4/13/2016 12:00:00 AM | 2 | 384 | 407 |\n",
       "| 3 | 1503960366 | 4/15/2016 12:00:00 AM | 1 | 412 | 442 |\n",
       "| 4 | 1503960366 | 4/16/2016 12:00:00 AM | 2 | 340 | 367 |\n",
       "| 5 | 1503960366 | 4/17/2016 12:00:00 AM | 1 | 700 | 712 |\n",
       "| 6 | 1503960366 | 4/19/2016 12:00:00 AM | 1 | 304 | 320 |\n",
       "\n"
      ],
      "text/plain": [
       "  Id         SleepDay              TotalSleepRecords TotalMinutesAsleep\n",
       "1 1503960366 4/12/2016 12:00:00 AM 1                 327               \n",
       "2 1503960366 4/13/2016 12:00:00 AM 2                 384               \n",
       "3 1503960366 4/15/2016 12:00:00 AM 1                 412               \n",
       "4 1503960366 4/16/2016 12:00:00 AM 2                 340               \n",
       "5 1503960366 4/17/2016 12:00:00 AM 1                 700               \n",
       "6 1503960366 4/19/2016 12:00:00 AM 1                 304               \n",
       "  TotalTimeInBed\n",
       "1 346           \n",
       "2 407           \n",
       "3 442           \n",
       "4 367           \n",
       "5 712           \n",
       "6 320           "
      ]
     },
     "metadata": {},
     "output_type": "display_data"
    },
    {
     "name": "stdout",
     "output_type": "stream",
     "text": [
      "Rows: 413\n",
      "Columns: 5\n",
      "$ Id                 \u001b[3m\u001b[90m<dbl>\u001b[39m\u001b[23m 1503960366, 1503960366, 1503960366, 1503960366, 150…\n",
      "$ SleepDay           \u001b[3m\u001b[90m<chr>\u001b[39m\u001b[23m \"4/12/2016 12:00:00 AM\", \"4/13/2016 12:00:00 AM\", \"…\n",
      "$ TotalSleepRecords  \u001b[3m\u001b[90m<int>\u001b[39m\u001b[23m 1, 2, 1, 2, 1, 1, 1, 1, 1, 1, 1, 1, 1, 1, 1, 1, 1, …\n",
      "$ TotalMinutesAsleep \u001b[3m\u001b[90m<int>\u001b[39m\u001b[23m 327, 384, 412, 340, 700, 304, 360, 325, 361, 430, 2…\n",
      "$ TotalTimeInBed     \u001b[3m\u001b[90m<int>\u001b[39m\u001b[23m 346, 407, 442, 367, 712, 320, 377, 364, 384, 449, 3…\n"
     ]
    }
   ],
   "source": [
    "head(daily_sleep)\n",
    "glimpse(daily_sleep)"
   ]
  },
  {
   "cell_type": "code",
   "execution_count": 9,
   "id": "7e4162a4",
   "metadata": {
    "execution": {
     "iopub.execute_input": "2023-05-01T20:45:16.295844Z",
     "iopub.status.busy": "2023-05-01T20:45:16.294471Z",
     "iopub.status.idle": "2023-05-01T20:45:16.323638Z",
     "shell.execute_reply": "2023-05-01T20:45:16.322333Z"
    },
    "papermill": {
     "duration": 0.04721,
     "end_time": "2023-05-01T20:45:16.325610",
     "exception": false,
     "start_time": "2023-05-01T20:45:16.278400",
     "status": "completed"
    },
    "tags": []
   },
   "outputs": [
    {
     "data": {
      "text/html": [
       "<table class=\"dataframe\">\n",
       "<caption>A data.frame: 6 × 8</caption>\n",
       "<thead>\n",
       "\t<tr><th></th><th scope=col>Id</th><th scope=col>Date</th><th scope=col>WeightKg</th><th scope=col>WeightPounds</th><th scope=col>Fat</th><th scope=col>BMI</th><th scope=col>IsManualReport</th><th scope=col>LogId</th></tr>\n",
       "\t<tr><th></th><th scope=col>&lt;dbl&gt;</th><th scope=col>&lt;chr&gt;</th><th scope=col>&lt;dbl&gt;</th><th scope=col>&lt;dbl&gt;</th><th scope=col>&lt;int&gt;</th><th scope=col>&lt;dbl&gt;</th><th scope=col>&lt;chr&gt;</th><th scope=col>&lt;dbl&gt;</th></tr>\n",
       "</thead>\n",
       "<tbody>\n",
       "\t<tr><th scope=row>1</th><td>1503960366</td><td>5/2/2016 11:59:59 PM </td><td> 52.6</td><td>115.9631</td><td>22</td><td>22.65</td><td>True </td><td>1.462234e+12</td></tr>\n",
       "\t<tr><th scope=row>2</th><td>1503960366</td><td>5/3/2016 11:59:59 PM </td><td> 52.6</td><td>115.9631</td><td>NA</td><td>22.65</td><td>True </td><td>1.462320e+12</td></tr>\n",
       "\t<tr><th scope=row>3</th><td>1927972279</td><td>4/13/2016 1:08:52 AM </td><td>133.5</td><td>294.3171</td><td>NA</td><td>47.54</td><td>False</td><td>1.460510e+12</td></tr>\n",
       "\t<tr><th scope=row>4</th><td>2873212765</td><td>4/21/2016 11:59:59 PM</td><td> 56.7</td><td>125.0021</td><td>NA</td><td>21.45</td><td>True </td><td>1.461283e+12</td></tr>\n",
       "\t<tr><th scope=row>5</th><td>2873212765</td><td>5/12/2016 11:59:59 PM</td><td> 57.3</td><td>126.3249</td><td>NA</td><td>21.69</td><td>True </td><td>1.463098e+12</td></tr>\n",
       "\t<tr><th scope=row>6</th><td>4319703577</td><td>4/17/2016 11:59:59 PM</td><td> 72.4</td><td>159.6147</td><td>25</td><td>27.45</td><td>True </td><td>1.460938e+12</td></tr>\n",
       "</tbody>\n",
       "</table>\n"
      ],
      "text/latex": [
       "A data.frame: 6 × 8\n",
       "\\begin{tabular}{r|llllllll}\n",
       "  & Id & Date & WeightKg & WeightPounds & Fat & BMI & IsManualReport & LogId\\\\\n",
       "  & <dbl> & <chr> & <dbl> & <dbl> & <int> & <dbl> & <chr> & <dbl>\\\\\n",
       "\\hline\n",
       "\t1 & 1503960366 & 5/2/2016 11:59:59 PM  &  52.6 & 115.9631 & 22 & 22.65 & True  & 1.462234e+12\\\\\n",
       "\t2 & 1503960366 & 5/3/2016 11:59:59 PM  &  52.6 & 115.9631 & NA & 22.65 & True  & 1.462320e+12\\\\\n",
       "\t3 & 1927972279 & 4/13/2016 1:08:52 AM  & 133.5 & 294.3171 & NA & 47.54 & False & 1.460510e+12\\\\\n",
       "\t4 & 2873212765 & 4/21/2016 11:59:59 PM &  56.7 & 125.0021 & NA & 21.45 & True  & 1.461283e+12\\\\\n",
       "\t5 & 2873212765 & 5/12/2016 11:59:59 PM &  57.3 & 126.3249 & NA & 21.69 & True  & 1.463098e+12\\\\\n",
       "\t6 & 4319703577 & 4/17/2016 11:59:59 PM &  72.4 & 159.6147 & 25 & 27.45 & True  & 1.460938e+12\\\\\n",
       "\\end{tabular}\n"
      ],
      "text/markdown": [
       "\n",
       "A data.frame: 6 × 8\n",
       "\n",
       "| <!--/--> | Id &lt;dbl&gt; | Date &lt;chr&gt; | WeightKg &lt;dbl&gt; | WeightPounds &lt;dbl&gt; | Fat &lt;int&gt; | BMI &lt;dbl&gt; | IsManualReport &lt;chr&gt; | LogId &lt;dbl&gt; |\n",
       "|---|---|---|---|---|---|---|---|---|\n",
       "| 1 | 1503960366 | 5/2/2016 11:59:59 PM  |  52.6 | 115.9631 | 22 | 22.65 | True  | 1.462234e+12 |\n",
       "| 2 | 1503960366 | 5/3/2016 11:59:59 PM  |  52.6 | 115.9631 | NA | 22.65 | True  | 1.462320e+12 |\n",
       "| 3 | 1927972279 | 4/13/2016 1:08:52 AM  | 133.5 | 294.3171 | NA | 47.54 | False | 1.460510e+12 |\n",
       "| 4 | 2873212765 | 4/21/2016 11:59:59 PM |  56.7 | 125.0021 | NA | 21.45 | True  | 1.461283e+12 |\n",
       "| 5 | 2873212765 | 5/12/2016 11:59:59 PM |  57.3 | 126.3249 | NA | 21.69 | True  | 1.463098e+12 |\n",
       "| 6 | 4319703577 | 4/17/2016 11:59:59 PM |  72.4 | 159.6147 | 25 | 27.45 | True  | 1.460938e+12 |\n",
       "\n"
      ],
      "text/plain": [
       "  Id         Date                  WeightKg WeightPounds Fat BMI  \n",
       "1 1503960366 5/2/2016 11:59:59 PM   52.6    115.9631     22  22.65\n",
       "2 1503960366 5/3/2016 11:59:59 PM   52.6    115.9631     NA  22.65\n",
       "3 1927972279 4/13/2016 1:08:52 AM  133.5    294.3171     NA  47.54\n",
       "4 2873212765 4/21/2016 11:59:59 PM  56.7    125.0021     NA  21.45\n",
       "5 2873212765 5/12/2016 11:59:59 PM  57.3    126.3249     NA  21.69\n",
       "6 4319703577 4/17/2016 11:59:59 PM  72.4    159.6147     25  27.45\n",
       "  IsManualReport LogId       \n",
       "1 True           1.462234e+12\n",
       "2 True           1.462320e+12\n",
       "3 False          1.460510e+12\n",
       "4 True           1.461283e+12\n",
       "5 True           1.463098e+12\n",
       "6 True           1.460938e+12"
      ]
     },
     "metadata": {},
     "output_type": "display_data"
    },
    {
     "name": "stdout",
     "output_type": "stream",
     "text": [
      "Rows: 67\n",
      "Columns: 8\n",
      "$ Id             \u001b[3m\u001b[90m<dbl>\u001b[39m\u001b[23m 1503960366, 1503960366, 1927972279, 2873212765, 2873212…\n",
      "$ Date           \u001b[3m\u001b[90m<chr>\u001b[39m\u001b[23m \"5/2/2016 11:59:59 PM\", \"5/3/2016 11:59:59 PM\", \"4/13/2…\n",
      "$ WeightKg       \u001b[3m\u001b[90m<dbl>\u001b[39m\u001b[23m 52.6, 52.6, 133.5, 56.7, 57.3, 72.4, 72.3, 69.7, 70.3, …\n",
      "$ WeightPounds   \u001b[3m\u001b[90m<dbl>\u001b[39m\u001b[23m 115.9631, 115.9631, 294.3171, 125.0021, 126.3249, 159.6…\n",
      "$ Fat            \u001b[3m\u001b[90m<int>\u001b[39m\u001b[23m 22, NA, NA, NA, NA, 25, NA, NA, NA, NA, NA, NA, NA, NA,…\n",
      "$ BMI            \u001b[3m\u001b[90m<dbl>\u001b[39m\u001b[23m 22.65, 22.65, 47.54, 21.45, 21.69, 27.45, 27.38, 27.25,…\n",
      "$ IsManualReport \u001b[3m\u001b[90m<chr>\u001b[39m\u001b[23m \"True\", \"True\", \"False\", \"True\", \"True\", \"True\", \"True\"…\n",
      "$ LogId          \u001b[3m\u001b[90m<dbl>\u001b[39m\u001b[23m 1.462234e+12, 1.462320e+12, 1.460510e+12, 1.461283e+12,…\n"
     ]
    }
   ],
   "source": [
    "head(weight_log)\n",
    "glimpse(weight_log)"
   ]
  },
  {
   "cell_type": "markdown",
   "id": "39ea7fea",
   "metadata": {
    "papermill": {
     "duration": 0.013415,
     "end_time": "2023-05-01T20:45:16.352636",
     "exception": false,
     "start_time": "2023-05-01T20:45:16.339221",
     "status": "completed"
    },
    "tags": []
   },
   "source": [
    "**Initial Observations: There appears to be missing, null, and insuffient data as well as data that's already been aggregated.**\n",
    "\n",
    "- there are 940 observations in all except for 'weightLog' (67) and 'daily_sleep'(413)\n",
    "- daily_activity appears to have aggregated data (daily_intensities and daily_calories)\n",
    "- date variable name is different across datasets \n",
    "- date format is character\n",
    "- date in daily_sleep only is date-time stamp \n",
    "- time in daily_sleep appears to be 12:00:00 AM for all entries \n",
    "- daily_activity and daily_intensities have null values"
   ]
  },
  {
   "cell_type": "code",
   "execution_count": 10,
   "id": "a7f188e3",
   "metadata": {
    "execution": {
     "iopub.execute_input": "2023-05-01T20:45:16.382344Z",
     "iopub.status.busy": "2023-05-01T20:45:16.381119Z",
     "iopub.status.idle": "2023-05-01T20:45:16.411544Z",
     "shell.execute_reply": "2023-05-01T20:45:16.410382Z"
    },
    "papermill": {
     "duration": 0.047219,
     "end_time": "2023-05-01T20:45:16.413260",
     "exception": false,
     "start_time": "2023-05-01T20:45:16.366041",
     "status": "completed"
    },
    "tags": []
   },
   "outputs": [
    {
     "data": {
      "text/html": [
       "33"
      ],
      "text/latex": [
       "33"
      ],
      "text/markdown": [
       "33"
      ],
      "text/plain": [
       "[1] 33"
      ]
     },
     "metadata": {},
     "output_type": "display_data"
    },
    {
     "data": {
      "text/html": [
       "33"
      ],
      "text/latex": [
       "33"
      ],
      "text/markdown": [
       "33"
      ],
      "text/plain": [
       "[1] 33"
      ]
     },
     "metadata": {},
     "output_type": "display_data"
    },
    {
     "data": {
      "text/html": [
       "33"
      ],
      "text/latex": [
       "33"
      ],
      "text/markdown": [
       "33"
      ],
      "text/plain": [
       "[1] 33"
      ]
     },
     "metadata": {},
     "output_type": "display_data"
    },
    {
     "data": {
      "text/html": [
       "33"
      ],
      "text/latex": [
       "33"
      ],
      "text/markdown": [
       "33"
      ],
      "text/plain": [
       "[1] 33"
      ]
     },
     "metadata": {},
     "output_type": "display_data"
    },
    {
     "data": {
      "text/html": [
       "24"
      ],
      "text/latex": [
       "24"
      ],
      "text/markdown": [
       "24"
      ],
      "text/plain": [
       "[1] 24"
      ]
     },
     "metadata": {},
     "output_type": "display_data"
    },
    {
     "data": {
      "text/html": [
       "8"
      ],
      "text/latex": [
       "8"
      ],
      "text/markdown": [
       "8"
      ],
      "text/plain": [
       "[1] 8"
      ]
     },
     "metadata": {},
     "output_type": "display_data"
    }
   ],
   "source": [
    "# count number of 'Id' combinations in each to check for unique participants\n",
    "n_distinct(daily_activity$Id)\n",
    "n_distinct(daily_calories$Id)\n",
    "n_distinct(daily_intensities$Id)\n",
    "n_distinct(daily_steps$Id)\n",
    "n_distinct(daily_sleep$Id)\n",
    "n_distinct(weight_log$Id)"
   ]
  },
  {
   "cell_type": "markdown",
   "id": "10efe4b7",
   "metadata": {
    "papermill": {
     "duration": 0.013853,
     "end_time": "2023-05-01T20:45:16.441341",
     "exception": false,
     "start_time": "2023-05-01T20:45:16.427488",
     "status": "completed"
    },
    "tags": []
   },
   "source": [
    "**Findings:**\n",
    "\n",
    "There are only eight participants recorded in weight_log. I can't proxy the data or collect more so I'll disregard it in my analysis. *The sample size is too small to represent the average result of a population.*"
   ]
  },
  {
   "cell_type": "code",
   "execution_count": 11,
   "id": "97eb9a4e",
   "metadata": {
    "execution": {
     "iopub.execute_input": "2023-05-01T20:45:16.472158Z",
     "iopub.status.busy": "2023-05-01T20:45:16.470813Z",
     "iopub.status.idle": "2023-05-01T20:45:16.527505Z",
     "shell.execute_reply": "2023-05-01T20:45:16.526207Z"
    },
    "papermill": {
     "duration": 0.074582,
     "end_time": "2023-05-01T20:45:16.529813",
     "exception": false,
     "start_time": "2023-05-01T20:45:16.455231",
     "status": "completed"
    },
    "tags": []
   },
   "outputs": [
    {
     "data": {
      "text/html": [
       "<style>\n",
       ".list-inline {list-style: none; margin:0; padding: 0}\n",
       ".list-inline>li {display: inline-block}\n",
       ".list-inline>li:not(:last-child)::after {content: \"\\00b7\"; padding: 0 .5ex}\n",
       "</style>\n",
       "<ol class=list-inline><li>'Id'</li><li>'ActivityDate'</li><li>'TotalSteps'</li><li>'TotalDistance'</li><li>'TrackerDistance'</li><li>'LoggedActivitiesDistance'</li><li>'VeryActiveDistance'</li><li>'ModeratelyActiveDistance'</li><li>'LightActiveDistance'</li><li>'SedentaryActiveDistance'</li><li>'VeryActiveMinutes'</li><li>'FairlyActiveMinutes'</li><li>'LightlyActiveMinutes'</li><li>'SedentaryMinutes'</li><li>'Calories'</li></ol>\n"
      ],
      "text/latex": [
       "\\begin{enumerate*}\n",
       "\\item 'Id'\n",
       "\\item 'ActivityDate'\n",
       "\\item 'TotalSteps'\n",
       "\\item 'TotalDistance'\n",
       "\\item 'TrackerDistance'\n",
       "\\item 'LoggedActivitiesDistance'\n",
       "\\item 'VeryActiveDistance'\n",
       "\\item 'ModeratelyActiveDistance'\n",
       "\\item 'LightActiveDistance'\n",
       "\\item 'SedentaryActiveDistance'\n",
       "\\item 'VeryActiveMinutes'\n",
       "\\item 'FairlyActiveMinutes'\n",
       "\\item 'LightlyActiveMinutes'\n",
       "\\item 'SedentaryMinutes'\n",
       "\\item 'Calories'\n",
       "\\end{enumerate*}\n"
      ],
      "text/markdown": [
       "1. 'Id'\n",
       "2. 'ActivityDate'\n",
       "3. 'TotalSteps'\n",
       "4. 'TotalDistance'\n",
       "5. 'TrackerDistance'\n",
       "6. 'LoggedActivitiesDistance'\n",
       "7. 'VeryActiveDistance'\n",
       "8. 'ModeratelyActiveDistance'\n",
       "9. 'LightActiveDistance'\n",
       "10. 'SedentaryActiveDistance'\n",
       "11. 'VeryActiveMinutes'\n",
       "12. 'FairlyActiveMinutes'\n",
       "13. 'LightlyActiveMinutes'\n",
       "14. 'SedentaryMinutes'\n",
       "15. 'Calories'\n",
       "\n",
       "\n"
      ],
      "text/plain": [
       " [1] \"Id\"                       \"ActivityDate\"            \n",
       " [3] \"TotalSteps\"               \"TotalDistance\"           \n",
       " [5] \"TrackerDistance\"          \"LoggedActivitiesDistance\"\n",
       " [7] \"VeryActiveDistance\"       \"ModeratelyActiveDistance\"\n",
       " [9] \"LightActiveDistance\"      \"SedentaryActiveDistance\" \n",
       "[11] \"VeryActiveMinutes\"        \"FairlyActiveMinutes\"     \n",
       "[13] \"LightlyActiveMinutes\"     \"SedentaryMinutes\"        \n",
       "[15] \"Calories\"                "
      ]
     },
     "metadata": {},
     "output_type": "display_data"
    },
    {
     "data": {
      "text/html": [
       "<style>\n",
       ".list-inline {list-style: none; margin:0; padding: 0}\n",
       ".list-inline>li {display: inline-block}\n",
       ".list-inline>li:not(:last-child)::after {content: \"\\00b7\"; padding: 0 .5ex}\n",
       "</style>\n",
       "<ol class=list-inline><li>'Id'</li><li>'ActivityDay'</li><li>'Calories'</li></ol>\n"
      ],
      "text/latex": [
       "\\begin{enumerate*}\n",
       "\\item 'Id'\n",
       "\\item 'ActivityDay'\n",
       "\\item 'Calories'\n",
       "\\end{enumerate*}\n"
      ],
      "text/markdown": [
       "1. 'Id'\n",
       "2. 'ActivityDay'\n",
       "3. 'Calories'\n",
       "\n",
       "\n"
      ],
      "text/plain": [
       "[1] \"Id\"          \"ActivityDay\" \"Calories\"   "
      ]
     },
     "metadata": {},
     "output_type": "display_data"
    },
    {
     "data": {
      "text/html": [
       "<style>\n",
       ".list-inline {list-style: none; margin:0; padding: 0}\n",
       ".list-inline>li {display: inline-block}\n",
       ".list-inline>li:not(:last-child)::after {content: \"\\00b7\"; padding: 0 .5ex}\n",
       "</style>\n",
       "<ol class=list-inline><li>'Id'</li><li>'ActivityDay'</li><li>'SedentaryMinutes'</li><li>'LightlyActiveMinutes'</li><li>'FairlyActiveMinutes'</li><li>'VeryActiveMinutes'</li><li>'SedentaryActiveDistance'</li><li>'LightActiveDistance'</li><li>'ModeratelyActiveDistance'</li><li>'VeryActiveDistance'</li></ol>\n"
      ],
      "text/latex": [
       "\\begin{enumerate*}\n",
       "\\item 'Id'\n",
       "\\item 'ActivityDay'\n",
       "\\item 'SedentaryMinutes'\n",
       "\\item 'LightlyActiveMinutes'\n",
       "\\item 'FairlyActiveMinutes'\n",
       "\\item 'VeryActiveMinutes'\n",
       "\\item 'SedentaryActiveDistance'\n",
       "\\item 'LightActiveDistance'\n",
       "\\item 'ModeratelyActiveDistance'\n",
       "\\item 'VeryActiveDistance'\n",
       "\\end{enumerate*}\n"
      ],
      "text/markdown": [
       "1. 'Id'\n",
       "2. 'ActivityDay'\n",
       "3. 'SedentaryMinutes'\n",
       "4. 'LightlyActiveMinutes'\n",
       "5. 'FairlyActiveMinutes'\n",
       "6. 'VeryActiveMinutes'\n",
       "7. 'SedentaryActiveDistance'\n",
       "8. 'LightActiveDistance'\n",
       "9. 'ModeratelyActiveDistance'\n",
       "10. 'VeryActiveDistance'\n",
       "\n",
       "\n"
      ],
      "text/plain": [
       " [1] \"Id\"                       \"ActivityDay\"             \n",
       " [3] \"SedentaryMinutes\"         \"LightlyActiveMinutes\"    \n",
       " [5] \"FairlyActiveMinutes\"      \"VeryActiveMinutes\"       \n",
       " [7] \"SedentaryActiveDistance\"  \"LightActiveDistance\"     \n",
       " [9] \"ModeratelyActiveDistance\" \"VeryActiveDistance\"      "
      ]
     },
     "metadata": {},
     "output_type": "display_data"
    },
    {
     "data": {
      "text/html": [
       "<style>\n",
       ".list-inline {list-style: none; margin:0; padding: 0}\n",
       ".list-inline>li {display: inline-block}\n",
       ".list-inline>li:not(:last-child)::after {content: \"\\00b7\"; padding: 0 .5ex}\n",
       "</style>\n",
       "<ol class=list-inline><li>'Id'</li><li>'ActivityDay'</li><li>'StepTotal'</li></ol>\n"
      ],
      "text/latex": [
       "\\begin{enumerate*}\n",
       "\\item 'Id'\n",
       "\\item 'ActivityDay'\n",
       "\\item 'StepTotal'\n",
       "\\end{enumerate*}\n"
      ],
      "text/markdown": [
       "1. 'Id'\n",
       "2. 'ActivityDay'\n",
       "3. 'StepTotal'\n",
       "\n",
       "\n"
      ],
      "text/plain": [
       "[1] \"Id\"          \"ActivityDay\" \"StepTotal\"  "
      ]
     },
     "metadata": {},
     "output_type": "display_data"
    },
    {
     "data": {
      "text/html": [
       "<style>\n",
       ".list-inline {list-style: none; margin:0; padding: 0}\n",
       ".list-inline>li {display: inline-block}\n",
       ".list-inline>li:not(:last-child)::after {content: \"\\00b7\"; padding: 0 .5ex}\n",
       "</style>\n",
       "<ol class=list-inline><li>'Id'</li><li>'SleepDay'</li><li>'TotalSleepRecords'</li><li>'TotalMinutesAsleep'</li><li>'TotalTimeInBed'</li></ol>\n"
      ],
      "text/latex": [
       "\\begin{enumerate*}\n",
       "\\item 'Id'\n",
       "\\item 'SleepDay'\n",
       "\\item 'TotalSleepRecords'\n",
       "\\item 'TotalMinutesAsleep'\n",
       "\\item 'TotalTimeInBed'\n",
       "\\end{enumerate*}\n"
      ],
      "text/markdown": [
       "1. 'Id'\n",
       "2. 'SleepDay'\n",
       "3. 'TotalSleepRecords'\n",
       "4. 'TotalMinutesAsleep'\n",
       "5. 'TotalTimeInBed'\n",
       "\n",
       "\n"
      ],
      "text/plain": [
       "[1] \"Id\"                 \"SleepDay\"           \"TotalSleepRecords\" \n",
       "[4] \"TotalMinutesAsleep\" \"TotalTimeInBed\"    "
      ]
     },
     "metadata": {},
     "output_type": "display_data"
    }
   ],
   "source": [
    "# check the variables with colnames() to see if any of the data has already been aggregated\n",
    "colnames(daily_activity)\n",
    "colnames(daily_calories)\n",
    "colnames(daily_intensities)\n",
    "colnames(daily_steps)\n",
    "colnames(daily_sleep)"
   ]
  },
  {
   "cell_type": "markdown",
   "id": "ac26d8e1",
   "metadata": {
    "papermill": {
     "duration": 0.014912,
     "end_time": "2023-05-01T20:45:16.560713",
     "exception": false,
     "start_time": "2023-05-01T20:45:16.545801",
     "status": "completed"
    },
    "tags": []
   },
   "source": [
    "**Findings:** \n",
    "\n",
    "The data in daily_calories, daily_intensities, and daily_steps has already been aggregated into daily_activity so, I'll disregard those datasets in my analysis. *I've narrowed it down to working with daily_activity and daily_sleep.***"
   ]
  },
  {
   "cell_type": "markdown",
   "id": "cdb1c41b",
   "metadata": {
    "papermill": {
     "duration": 0.014657,
     "end_time": "2023-05-01T20:45:16.590226",
     "exception": false,
     "start_time": "2023-05-01T20:45:16.575569",
     "status": "completed"
    },
    "tags": []
   },
   "source": [
    "**I'll do some preliminary cleaning of these two datasets before I merge into one for analysis.**"
   ]
  },
  {
   "cell_type": "code",
   "execution_count": 12,
   "id": "4598b3c8",
   "metadata": {
    "execution": {
     "iopub.execute_input": "2023-05-01T20:45:16.622560Z",
     "iopub.status.busy": "2023-05-01T20:45:16.621232Z",
     "iopub.status.idle": "2023-05-01T20:45:16.661527Z",
     "shell.execute_reply": "2023-05-01T20:45:16.660166Z"
    },
    "papermill": {
     "duration": 0.059193,
     "end_time": "2023-05-01T20:45:16.664073",
     "exception": false,
     "start_time": "2023-05-01T20:45:16.604880",
     "status": "completed"
    },
    "tags": []
   },
   "outputs": [],
   "source": [
    "# rename date columns from 'ActivityDate' and 'SleepDay' to 'date'\n",
    "daily_activity <- daily_activity %>%\n",
    "    rename(date = ActivityDate)\n",
    "daily_sleep <- daily_sleep %>%\n",
    "  rename(date = SleepDay)"
   ]
  },
  {
   "cell_type": "code",
   "execution_count": 13,
   "id": "91207725",
   "metadata": {
    "execution": {
     "iopub.execute_input": "2023-05-01T20:45:16.697227Z",
     "iopub.status.busy": "2023-05-01T20:45:16.695786Z",
     "iopub.status.idle": "2023-05-01T20:45:16.714034Z",
     "shell.execute_reply": "2023-05-01T20:45:16.712747Z"
    },
    "papermill": {
     "duration": 0.037379,
     "end_time": "2023-05-01T20:45:16.716440",
     "exception": false,
     "start_time": "2023-05-01T20:45:16.679061",
     "status": "completed"
    },
    "tags": []
   },
   "outputs": [
    {
     "data": {
      "text/html": [
       "<style>\n",
       ".list-inline {list-style: none; margin:0; padding: 0}\n",
       ".list-inline>li {display: inline-block}\n",
       ".list-inline>li:not(:last-child)::after {content: \"\\00b7\"; padding: 0 .5ex}\n",
       "</style>\n",
       "<ol class=list-inline><li>'Id'</li><li>'date'</li><li>'TotalSteps'</li><li>'TotalDistance'</li><li>'TrackerDistance'</li><li>'LoggedActivitiesDistance'</li><li>'VeryActiveDistance'</li><li>'ModeratelyActiveDistance'</li><li>'LightActiveDistance'</li><li>'SedentaryActiveDistance'</li><li>'VeryActiveMinutes'</li><li>'FairlyActiveMinutes'</li><li>'LightlyActiveMinutes'</li><li>'SedentaryMinutes'</li><li>'Calories'</li></ol>\n"
      ],
      "text/latex": [
       "\\begin{enumerate*}\n",
       "\\item 'Id'\n",
       "\\item 'date'\n",
       "\\item 'TotalSteps'\n",
       "\\item 'TotalDistance'\n",
       "\\item 'TrackerDistance'\n",
       "\\item 'LoggedActivitiesDistance'\n",
       "\\item 'VeryActiveDistance'\n",
       "\\item 'ModeratelyActiveDistance'\n",
       "\\item 'LightActiveDistance'\n",
       "\\item 'SedentaryActiveDistance'\n",
       "\\item 'VeryActiveMinutes'\n",
       "\\item 'FairlyActiveMinutes'\n",
       "\\item 'LightlyActiveMinutes'\n",
       "\\item 'SedentaryMinutes'\n",
       "\\item 'Calories'\n",
       "\\end{enumerate*}\n"
      ],
      "text/markdown": [
       "1. 'Id'\n",
       "2. 'date'\n",
       "3. 'TotalSteps'\n",
       "4. 'TotalDistance'\n",
       "5. 'TrackerDistance'\n",
       "6. 'LoggedActivitiesDistance'\n",
       "7. 'VeryActiveDistance'\n",
       "8. 'ModeratelyActiveDistance'\n",
       "9. 'LightActiveDistance'\n",
       "10. 'SedentaryActiveDistance'\n",
       "11. 'VeryActiveMinutes'\n",
       "12. 'FairlyActiveMinutes'\n",
       "13. 'LightlyActiveMinutes'\n",
       "14. 'SedentaryMinutes'\n",
       "15. 'Calories'\n",
       "\n",
       "\n"
      ],
      "text/plain": [
       " [1] \"Id\"                       \"date\"                    \n",
       " [3] \"TotalSteps\"               \"TotalDistance\"           \n",
       " [5] \"TrackerDistance\"          \"LoggedActivitiesDistance\"\n",
       " [7] \"VeryActiveDistance\"       \"ModeratelyActiveDistance\"\n",
       " [9] \"LightActiveDistance\"      \"SedentaryActiveDistance\" \n",
       "[11] \"VeryActiveMinutes\"        \"FairlyActiveMinutes\"     \n",
       "[13] \"LightlyActiveMinutes\"     \"SedentaryMinutes\"        \n",
       "[15] \"Calories\"                "
      ]
     },
     "metadata": {},
     "output_type": "display_data"
    },
    {
     "data": {
      "text/html": [
       "<style>\n",
       ".list-inline {list-style: none; margin:0; padding: 0}\n",
       ".list-inline>li {display: inline-block}\n",
       ".list-inline>li:not(:last-child)::after {content: \"\\00b7\"; padding: 0 .5ex}\n",
       "</style>\n",
       "<ol class=list-inline><li>'Id'</li><li>'date'</li><li>'TotalSleepRecords'</li><li>'TotalMinutesAsleep'</li><li>'TotalTimeInBed'</li></ol>\n"
      ],
      "text/latex": [
       "\\begin{enumerate*}\n",
       "\\item 'Id'\n",
       "\\item 'date'\n",
       "\\item 'TotalSleepRecords'\n",
       "\\item 'TotalMinutesAsleep'\n",
       "\\item 'TotalTimeInBed'\n",
       "\\end{enumerate*}\n"
      ],
      "text/markdown": [
       "1. 'Id'\n",
       "2. 'date'\n",
       "3. 'TotalSleepRecords'\n",
       "4. 'TotalMinutesAsleep'\n",
       "5. 'TotalTimeInBed'\n",
       "\n",
       "\n"
      ],
      "text/plain": [
       "[1] \"Id\"                 \"date\"               \"TotalSleepRecords\" \n",
       "[4] \"TotalMinutesAsleep\" \"TotalTimeInBed\"    "
      ]
     },
     "metadata": {},
     "output_type": "display_data"
    }
   ],
   "source": [
    "# check column names to confirm success\n",
    "colnames(daily_activity)\n",
    "colnames(daily_sleep)"
   ]
  },
  {
   "cell_type": "code",
   "execution_count": 14,
   "id": "93715475",
   "metadata": {
    "execution": {
     "iopub.execute_input": "2023-05-01T20:45:16.784389Z",
     "iopub.status.busy": "2023-05-01T20:45:16.783022Z",
     "iopub.status.idle": "2023-05-01T20:45:16.801088Z",
     "shell.execute_reply": "2023-05-01T20:45:16.799535Z"
    },
    "papermill": {
     "duration": 0.038235,
     "end_time": "2023-05-01T20:45:16.803370",
     "exception": false,
     "start_time": "2023-05-01T20:45:16.765135",
     "status": "completed"
    },
    "tags": []
   },
   "outputs": [],
   "source": [
    "# convert dates from character to date (data) \n",
    "daily_activity$date <- mdy(daily_activity$date)"
   ]
  },
  {
   "cell_type": "code",
   "execution_count": 15,
   "id": "14d23f40",
   "metadata": {
    "execution": {
     "iopub.execute_input": "2023-05-01T20:45:16.838332Z",
     "iopub.status.busy": "2023-05-01T20:45:16.837011Z",
     "iopub.status.idle": "2023-05-01T20:45:16.885604Z",
     "shell.execute_reply": "2023-05-01T20:45:16.884272Z"
    },
    "papermill": {
     "duration": 0.067836,
     "end_time": "2023-05-01T20:45:16.887399",
     "exception": false,
     "start_time": "2023-05-01T20:45:16.819563",
     "status": "completed"
    },
    "tags": []
   },
   "outputs": [
    {
     "name": "stdout",
     "output_type": "stream",
     "text": [
      "'data.frame':\t940 obs. of  15 variables:\n",
      " $ Id                      : num  1.5e+09 1.5e+09 1.5e+09 1.5e+09 1.5e+09 ...\n",
      " $ date                    : Date, format: \"2016-04-12\" \"2016-04-13\" ...\n",
      " $ TotalSteps              : int  13162 10735 10460 9762 12669 9705 13019 15506 10544 9819 ...\n",
      " $ TotalDistance           : num  8.5 6.97 6.74 6.28 8.16 ...\n",
      " $ TrackerDistance         : num  8.5 6.97 6.74 6.28 8.16 ...\n",
      " $ LoggedActivitiesDistance: num  0 0 0 0 0 0 0 0 0 0 ...\n",
      " $ VeryActiveDistance      : num  1.88 1.57 2.44 2.14 2.71 ...\n",
      " $ ModeratelyActiveDistance: num  0.55 0.69 0.4 1.26 0.41 ...\n",
      " $ LightActiveDistance     : num  6.06 4.71 3.91 2.83 5.04 ...\n",
      " $ SedentaryActiveDistance : num  0 0 0 0 0 0 0 0 0 0 ...\n",
      " $ VeryActiveMinutes       : int  25 21 30 29 36 38 42 50 28 19 ...\n",
      " $ FairlyActiveMinutes     : int  13 19 11 34 10 20 16 31 12 8 ...\n",
      " $ LightlyActiveMinutes    : int  328 217 181 209 221 164 233 264 205 211 ...\n",
      " $ SedentaryMinutes        : int  728 776 1218 726 773 539 1149 775 818 838 ...\n",
      " $ Calories                : int  1985 1797 1776 1745 1863 1728 1921 2035 1786 1775 ...\n"
     ]
    },
    {
     "data": {
      "text/html": [
       "<table class=\"dataframe\">\n",
       "<caption>A data.frame: 6 × 15</caption>\n",
       "<thead>\n",
       "\t<tr><th></th><th scope=col>Id</th><th scope=col>date</th><th scope=col>TotalSteps</th><th scope=col>TotalDistance</th><th scope=col>TrackerDistance</th><th scope=col>LoggedActivitiesDistance</th><th scope=col>VeryActiveDistance</th><th scope=col>ModeratelyActiveDistance</th><th scope=col>LightActiveDistance</th><th scope=col>SedentaryActiveDistance</th><th scope=col>VeryActiveMinutes</th><th scope=col>FairlyActiveMinutes</th><th scope=col>LightlyActiveMinutes</th><th scope=col>SedentaryMinutes</th><th scope=col>Calories</th></tr>\n",
       "\t<tr><th></th><th scope=col>&lt;dbl&gt;</th><th scope=col>&lt;date&gt;</th><th scope=col>&lt;int&gt;</th><th scope=col>&lt;dbl&gt;</th><th scope=col>&lt;dbl&gt;</th><th scope=col>&lt;dbl&gt;</th><th scope=col>&lt;dbl&gt;</th><th scope=col>&lt;dbl&gt;</th><th scope=col>&lt;dbl&gt;</th><th scope=col>&lt;dbl&gt;</th><th scope=col>&lt;int&gt;</th><th scope=col>&lt;int&gt;</th><th scope=col>&lt;int&gt;</th><th scope=col>&lt;int&gt;</th><th scope=col>&lt;int&gt;</th></tr>\n",
       "</thead>\n",
       "<tbody>\n",
       "\t<tr><th scope=row>1</th><td>1503960366</td><td>2016-04-12</td><td>13162</td><td>8.50</td><td>8.50</td><td>0</td><td>1.88</td><td>0.55</td><td>6.06</td><td>0</td><td>25</td><td>13</td><td>328</td><td> 728</td><td>1985</td></tr>\n",
       "\t<tr><th scope=row>2</th><td>1503960366</td><td>2016-04-13</td><td>10735</td><td>6.97</td><td>6.97</td><td>0</td><td>1.57</td><td>0.69</td><td>4.71</td><td>0</td><td>21</td><td>19</td><td>217</td><td> 776</td><td>1797</td></tr>\n",
       "\t<tr><th scope=row>3</th><td>1503960366</td><td>2016-04-14</td><td>10460</td><td>6.74</td><td>6.74</td><td>0</td><td>2.44</td><td>0.40</td><td>3.91</td><td>0</td><td>30</td><td>11</td><td>181</td><td>1218</td><td>1776</td></tr>\n",
       "\t<tr><th scope=row>4</th><td>1503960366</td><td>2016-04-15</td><td> 9762</td><td>6.28</td><td>6.28</td><td>0</td><td>2.14</td><td>1.26</td><td>2.83</td><td>0</td><td>29</td><td>34</td><td>209</td><td> 726</td><td>1745</td></tr>\n",
       "\t<tr><th scope=row>5</th><td>1503960366</td><td>2016-04-16</td><td>12669</td><td>8.16</td><td>8.16</td><td>0</td><td>2.71</td><td>0.41</td><td>5.04</td><td>0</td><td>36</td><td>10</td><td>221</td><td> 773</td><td>1863</td></tr>\n",
       "\t<tr><th scope=row>6</th><td>1503960366</td><td>2016-04-17</td><td> 9705</td><td>6.48</td><td>6.48</td><td>0</td><td>3.19</td><td>0.78</td><td>2.51</td><td>0</td><td>38</td><td>20</td><td>164</td><td> 539</td><td>1728</td></tr>\n",
       "</tbody>\n",
       "</table>\n"
      ],
      "text/latex": [
       "A data.frame: 6 × 15\n",
       "\\begin{tabular}{r|lllllllllllllll}\n",
       "  & Id & date & TotalSteps & TotalDistance & TrackerDistance & LoggedActivitiesDistance & VeryActiveDistance & ModeratelyActiveDistance & LightActiveDistance & SedentaryActiveDistance & VeryActiveMinutes & FairlyActiveMinutes & LightlyActiveMinutes & SedentaryMinutes & Calories\\\\\n",
       "  & <dbl> & <date> & <int> & <dbl> & <dbl> & <dbl> & <dbl> & <dbl> & <dbl> & <dbl> & <int> & <int> & <int> & <int> & <int>\\\\\n",
       "\\hline\n",
       "\t1 & 1503960366 & 2016-04-12 & 13162 & 8.50 & 8.50 & 0 & 1.88 & 0.55 & 6.06 & 0 & 25 & 13 & 328 &  728 & 1985\\\\\n",
       "\t2 & 1503960366 & 2016-04-13 & 10735 & 6.97 & 6.97 & 0 & 1.57 & 0.69 & 4.71 & 0 & 21 & 19 & 217 &  776 & 1797\\\\\n",
       "\t3 & 1503960366 & 2016-04-14 & 10460 & 6.74 & 6.74 & 0 & 2.44 & 0.40 & 3.91 & 0 & 30 & 11 & 181 & 1218 & 1776\\\\\n",
       "\t4 & 1503960366 & 2016-04-15 &  9762 & 6.28 & 6.28 & 0 & 2.14 & 1.26 & 2.83 & 0 & 29 & 34 & 209 &  726 & 1745\\\\\n",
       "\t5 & 1503960366 & 2016-04-16 & 12669 & 8.16 & 8.16 & 0 & 2.71 & 0.41 & 5.04 & 0 & 36 & 10 & 221 &  773 & 1863\\\\\n",
       "\t6 & 1503960366 & 2016-04-17 &  9705 & 6.48 & 6.48 & 0 & 3.19 & 0.78 & 2.51 & 0 & 38 & 20 & 164 &  539 & 1728\\\\\n",
       "\\end{tabular}\n"
      ],
      "text/markdown": [
       "\n",
       "A data.frame: 6 × 15\n",
       "\n",
       "| <!--/--> | Id &lt;dbl&gt; | date &lt;date&gt; | TotalSteps &lt;int&gt; | TotalDistance &lt;dbl&gt; | TrackerDistance &lt;dbl&gt; | LoggedActivitiesDistance &lt;dbl&gt; | VeryActiveDistance &lt;dbl&gt; | ModeratelyActiveDistance &lt;dbl&gt; | LightActiveDistance &lt;dbl&gt; | SedentaryActiveDistance &lt;dbl&gt; | VeryActiveMinutes &lt;int&gt; | FairlyActiveMinutes &lt;int&gt; | LightlyActiveMinutes &lt;int&gt; | SedentaryMinutes &lt;int&gt; | Calories &lt;int&gt; |\n",
       "|---|---|---|---|---|---|---|---|---|---|---|---|---|---|---|---|\n",
       "| 1 | 1503960366 | 2016-04-12 | 13162 | 8.50 | 8.50 | 0 | 1.88 | 0.55 | 6.06 | 0 | 25 | 13 | 328 |  728 | 1985 |\n",
       "| 2 | 1503960366 | 2016-04-13 | 10735 | 6.97 | 6.97 | 0 | 1.57 | 0.69 | 4.71 | 0 | 21 | 19 | 217 |  776 | 1797 |\n",
       "| 3 | 1503960366 | 2016-04-14 | 10460 | 6.74 | 6.74 | 0 | 2.44 | 0.40 | 3.91 | 0 | 30 | 11 | 181 | 1218 | 1776 |\n",
       "| 4 | 1503960366 | 2016-04-15 |  9762 | 6.28 | 6.28 | 0 | 2.14 | 1.26 | 2.83 | 0 | 29 | 34 | 209 |  726 | 1745 |\n",
       "| 5 | 1503960366 | 2016-04-16 | 12669 | 8.16 | 8.16 | 0 | 2.71 | 0.41 | 5.04 | 0 | 36 | 10 | 221 |  773 | 1863 |\n",
       "| 6 | 1503960366 | 2016-04-17 |  9705 | 6.48 | 6.48 | 0 | 3.19 | 0.78 | 2.51 | 0 | 38 | 20 | 164 |  539 | 1728 |\n",
       "\n"
      ],
      "text/plain": [
       "  Id         date       TotalSteps TotalDistance TrackerDistance\n",
       "1 1503960366 2016-04-12 13162      8.50          8.50           \n",
       "2 1503960366 2016-04-13 10735      6.97          6.97           \n",
       "3 1503960366 2016-04-14 10460      6.74          6.74           \n",
       "4 1503960366 2016-04-15  9762      6.28          6.28           \n",
       "5 1503960366 2016-04-16 12669      8.16          8.16           \n",
       "6 1503960366 2016-04-17  9705      6.48          6.48           \n",
       "  LoggedActivitiesDistance VeryActiveDistance ModeratelyActiveDistance\n",
       "1 0                        1.88               0.55                    \n",
       "2 0                        1.57               0.69                    \n",
       "3 0                        2.44               0.40                    \n",
       "4 0                        2.14               1.26                    \n",
       "5 0                        2.71               0.41                    \n",
       "6 0                        3.19               0.78                    \n",
       "  LightActiveDistance SedentaryActiveDistance VeryActiveMinutes\n",
       "1 6.06                0                       25               \n",
       "2 4.71                0                       21               \n",
       "3 3.91                0                       30               \n",
       "4 2.83                0                       29               \n",
       "5 5.04                0                       36               \n",
       "6 2.51                0                       38               \n",
       "  FairlyActiveMinutes LightlyActiveMinutes SedentaryMinutes Calories\n",
       "1 13                  328                   728             1985    \n",
       "2 19                  217                   776             1797    \n",
       "3 11                  181                  1218             1776    \n",
       "4 34                  209                   726             1745    \n",
       "5 10                  221                   773             1863    \n",
       "6 20                  164                   539             1728    "
      ]
     },
     "metadata": {},
     "output_type": "display_data"
    }
   ],
   "source": [
    "# check to confirm change\n",
    "str(daily_activity)\n",
    "head(daily_activity)"
   ]
  },
  {
   "cell_type": "code",
   "execution_count": 16,
   "id": "2f2d15fa",
   "metadata": {
    "collapsed": true,
    "execution": {
     "iopub.execute_input": "2023-05-01T20:45:16.922003Z",
     "iopub.status.busy": "2023-05-01T20:45:16.920685Z",
     "iopub.status.idle": "2023-05-01T20:45:16.975407Z",
     "shell.execute_reply": "2023-05-01T20:45:16.973823Z"
    },
    "jupyter": {
     "outputs_hidden": true
    },
    "papermill": {
     "duration": 0.074509,
     "end_time": "2023-05-01T20:45:16.977802",
     "exception": false,
     "start_time": "2023-05-01T20:45:16.903293",
     "status": "completed"
    },
    "tags": []
   },
   "outputs": [
    {
     "name": "stderr",
     "output_type": "stream",
     "text": [
      "Warning message:\n",
      "“\u001b[1m\u001b[22mExpected 2 pieces. Additional pieces discarded in 413 rows [1, 2, 3, 4, 5, 6,\n",
      "7, 8, 9, 10, 11, 12, 13, 14, 15, 16, 17, 18, 19, 20, ...].”\n"
     ]
    }
   ],
   "source": [
    "# convert dates from character to date data and then parse date-time to date and time \n",
    "daily_sleep <- daily_sleep %>% separate(date,c(\"date\",\"time\"),sep=' ')\n",
    "daily_sleep$date <- mdy(daily_sleep$date)\n",
    "daily_sleep$time <- hms(daily_sleep$time)"
   ]
  },
  {
   "cell_type": "code",
   "execution_count": 17,
   "id": "1d80d527",
   "metadata": {
    "execution": {
     "iopub.execute_input": "2023-05-01T20:45:17.012613Z",
     "iopub.status.busy": "2023-05-01T20:45:17.011188Z",
     "iopub.status.idle": "2023-05-01T20:45:17.050253Z",
     "shell.execute_reply": "2023-05-01T20:45:17.048295Z"
    },
    "papermill": {
     "duration": 0.058871,
     "end_time": "2023-05-01T20:45:17.052454",
     "exception": false,
     "start_time": "2023-05-01T20:45:16.993583",
     "status": "completed"
    },
    "tags": []
   },
   "outputs": [
    {
     "name": "stdout",
     "output_type": "stream",
     "text": [
      "'data.frame':\t413 obs. of  6 variables:\n",
      " $ Id                : num  1.5e+09 1.5e+09 1.5e+09 1.5e+09 1.5e+09 ...\n",
      " $ date              : Date, format: \"2016-04-12\" \"2016-04-13\" ...\n",
      " $ time              :Formal class 'Period' [package \"lubridate\"] with 6 slots\n",
      "  .. ..@ .Data : num  0 0 0 0 0 0 0 0 0 0 ...\n",
      "  .. ..@ year  : num  0 0 0 0 0 0 0 0 0 0 ...\n",
      "  .. ..@ month : num  0 0 0 0 0 0 0 0 0 0 ...\n",
      "  .. ..@ day   : num  0 0 0 0 0 0 0 0 0 0 ...\n",
      "  .. ..@ hour  : num  12 12 12 12 12 12 12 12 12 12 ...\n",
      "  .. ..@ minute: num  0 0 0 0 0 0 0 0 0 0 ...\n",
      " $ TotalSleepRecords : int  1 2 1 2 1 1 1 1 1 1 ...\n",
      " $ TotalMinutesAsleep: int  327 384 412 340 700 304 360 325 361 430 ...\n",
      " $ TotalTimeInBed    : int  346 407 442 367 712 320 377 364 384 449 ...\n"
     ]
    },
    {
     "data": {
      "text/html": [
       "<table class=\"dataframe\">\n",
       "<caption>A data.frame: 6 × 6</caption>\n",
       "<thead>\n",
       "\t<tr><th></th><th scope=col>Id</th><th scope=col>date</th><th scope=col>time</th><th scope=col>TotalSleepRecords</th><th scope=col>TotalMinutesAsleep</th><th scope=col>TotalTimeInBed</th></tr>\n",
       "\t<tr><th></th><th scope=col>&lt;dbl&gt;</th><th scope=col>&lt;date&gt;</th><th scope=col>&lt;Period&gt;</th><th scope=col>&lt;int&gt;</th><th scope=col>&lt;int&gt;</th><th scope=col>&lt;int&gt;</th></tr>\n",
       "</thead>\n",
       "<tbody>\n",
       "\t<tr><th scope=row>1</th><td>1503960366</td><td>2016-04-12</td><td>12H 0M 0S</td><td>1</td><td>327</td><td>346</td></tr>\n",
       "\t<tr><th scope=row>2</th><td>1503960366</td><td>2016-04-13</td><td>12H 0M 0S</td><td>2</td><td>384</td><td>407</td></tr>\n",
       "\t<tr><th scope=row>3</th><td>1503960366</td><td>2016-04-15</td><td>12H 0M 0S</td><td>1</td><td>412</td><td>442</td></tr>\n",
       "\t<tr><th scope=row>4</th><td>1503960366</td><td>2016-04-16</td><td>12H 0M 0S</td><td>2</td><td>340</td><td>367</td></tr>\n",
       "\t<tr><th scope=row>5</th><td>1503960366</td><td>2016-04-17</td><td>12H 0M 0S</td><td>1</td><td>700</td><td>712</td></tr>\n",
       "\t<tr><th scope=row>6</th><td>1503960366</td><td>2016-04-19</td><td>12H 0M 0S</td><td>1</td><td>304</td><td>320</td></tr>\n",
       "</tbody>\n",
       "</table>\n"
      ],
      "text/latex": [
       "A data.frame: 6 × 6\n",
       "\\begin{tabular}{r|llllll}\n",
       "  & Id & date & time & TotalSleepRecords & TotalMinutesAsleep & TotalTimeInBed\\\\\n",
       "  & <dbl> & <date> & <Period> & <int> & <int> & <int>\\\\\n",
       "\\hline\n",
       "\t1 & 1503960366 & 2016-04-12 & 12H 0M 0S & 1 & 327 & 346\\\\\n",
       "\t2 & 1503960366 & 2016-04-13 & 12H 0M 0S & 2 & 384 & 407\\\\\n",
       "\t3 & 1503960366 & 2016-04-15 & 12H 0M 0S & 1 & 412 & 442\\\\\n",
       "\t4 & 1503960366 & 2016-04-16 & 12H 0M 0S & 2 & 340 & 367\\\\\n",
       "\t5 & 1503960366 & 2016-04-17 & 12H 0M 0S & 1 & 700 & 712\\\\\n",
       "\t6 & 1503960366 & 2016-04-19 & 12H 0M 0S & 1 & 304 & 320\\\\\n",
       "\\end{tabular}\n"
      ],
      "text/markdown": [
       "\n",
       "A data.frame: 6 × 6\n",
       "\n",
       "| <!--/--> | Id &lt;dbl&gt; | date &lt;date&gt; | time &lt;Period&gt; | TotalSleepRecords &lt;int&gt; | TotalMinutesAsleep &lt;int&gt; | TotalTimeInBed &lt;int&gt; |\n",
       "|---|---|---|---|---|---|---|\n",
       "| 1 | 1503960366 | 2016-04-12 | 12H 0M 0S | 1 | 327 | 346 |\n",
       "| 2 | 1503960366 | 2016-04-13 | 12H 0M 0S | 2 | 384 | 407 |\n",
       "| 3 | 1503960366 | 2016-04-15 | 12H 0M 0S | 1 | 412 | 442 |\n",
       "| 4 | 1503960366 | 2016-04-16 | 12H 0M 0S | 2 | 340 | 367 |\n",
       "| 5 | 1503960366 | 2016-04-17 | 12H 0M 0S | 1 | 700 | 712 |\n",
       "| 6 | 1503960366 | 2016-04-19 | 12H 0M 0S | 1 | 304 | 320 |\n",
       "\n"
      ],
      "text/plain": [
       "  Id         date       time      TotalSleepRecords TotalMinutesAsleep\n",
       "1 1503960366 2016-04-12 12H 0M 0S 1                 327               \n",
       "2 1503960366 2016-04-13 12H 0M 0S 2                 384               \n",
       "3 1503960366 2016-04-15 12H 0M 0S 1                 412               \n",
       "4 1503960366 2016-04-16 12H 0M 0S 2                 340               \n",
       "5 1503960366 2016-04-17 12H 0M 0S 1                 700               \n",
       "6 1503960366 2016-04-19 12H 0M 0S 1                 304               \n",
       "  TotalTimeInBed\n",
       "1 346           \n",
       "2 407           \n",
       "3 442           \n",
       "4 367           \n",
       "5 712           \n",
       "6 320           "
      ]
     },
     "metadata": {},
     "output_type": "display_data"
    }
   ],
   "source": [
    "# check to confirm changes\n",
    "str(daily_sleep)\n",
    "head(daily_sleep)"
   ]
  },
  {
   "cell_type": "code",
   "execution_count": 18,
   "id": "b3cb1ff3",
   "metadata": {
    "execution": {
     "iopub.execute_input": "2023-05-01T20:45:17.087660Z",
     "iopub.status.busy": "2023-05-01T20:45:17.086273Z",
     "iopub.status.idle": "2023-05-01T20:45:17.238249Z",
     "shell.execute_reply": "2023-05-01T20:45:17.236425Z"
    },
    "papermill": {
     "duration": 0.171572,
     "end_time": "2023-05-01T20:45:17.240433",
     "exception": false,
     "start_time": "2023-05-01T20:45:17.068861",
     "status": "completed"
    },
    "tags": []
   },
   "outputs": [
    {
     "data": {
      "text/html": [
       "0"
      ],
      "text/latex": [
       "0"
      ],
      "text/markdown": [
       "0"
      ],
      "text/plain": [
       "[1] 0"
      ]
     },
     "metadata": {},
     "output_type": "display_data"
    },
    {
     "data": {
      "text/html": [
       "3"
      ],
      "text/latex": [
       "3"
      ],
      "text/markdown": [
       "3"
      ],
      "text/plain": [
       "[1] 3"
      ]
     },
     "metadata": {},
     "output_type": "display_data"
    }
   ],
   "source": [
    "# check for duplicates\n",
    "sum(duplicated(daily_activity)) \n",
    "sum(duplicated(daily_sleep)) "
   ]
  },
  {
   "cell_type": "markdown",
   "id": "19c89107",
   "metadata": {
    "papermill": {
     "duration": 0.016123,
     "end_time": "2023-05-01T20:45:17.272864",
     "exception": false,
     "start_time": "2023-05-01T20:45:17.256741",
     "status": "completed"
    },
    "tags": []
   },
   "source": [
    "No duplicates found in daily_activity but three found in daily_sleep. "
   ]
  },
  {
   "cell_type": "code",
   "execution_count": 19,
   "id": "a26d9d5d",
   "metadata": {
    "execution": {
     "iopub.execute_input": "2023-05-01T20:45:17.308352Z",
     "iopub.status.busy": "2023-05-01T20:45:17.306971Z",
     "iopub.status.idle": "2023-05-01T20:45:17.441705Z",
     "shell.execute_reply": "2023-05-01T20:45:17.439810Z"
    },
    "papermill": {
     "duration": 0.154761,
     "end_time": "2023-05-01T20:45:17.443802",
     "exception": false,
     "start_time": "2023-05-01T20:45:17.289041",
     "status": "completed"
    },
    "tags": []
   },
   "outputs": [
    {
     "data": {
      "text/html": [
       "0"
      ],
      "text/latex": [
       "0"
      ],
      "text/markdown": [
       "0"
      ],
      "text/plain": [
       "[1] 0"
      ]
     },
     "metadata": {},
     "output_type": "display_data"
    }
   ],
   "source": [
    "# remove duplicates and recheck \n",
    "daily_sleep <- daily_sleep %>% distinct()\n",
    "sum(duplicated(daily_sleep)) "
   ]
  },
  {
   "cell_type": "markdown",
   "id": "d448e3d1",
   "metadata": {
    "papermill": {
     "duration": 0.016135,
     "end_time": "2023-05-01T20:45:17.476021",
     "exception": false,
     "start_time": "2023-05-01T20:45:17.459886",
     "status": "completed"
    },
    "tags": []
   },
   "source": [
    "All duplicates have been removed so now I'll check for missing values."
   ]
  },
  {
   "cell_type": "code",
   "execution_count": 20,
   "id": "2a8488d9",
   "metadata": {
    "execution": {
     "iopub.execute_input": "2023-05-01T20:45:17.512011Z",
     "iopub.status.busy": "2023-05-01T20:45:17.510708Z",
     "iopub.status.idle": "2023-05-01T20:45:17.531301Z",
     "shell.execute_reply": "2023-05-01T20:45:17.529544Z"
    },
    "papermill": {
     "duration": 0.040974,
     "end_time": "2023-05-01T20:45:17.533466",
     "exception": false,
     "start_time": "2023-05-01T20:45:17.492492",
     "status": "completed"
    },
    "tags": []
   },
   "outputs": [
    {
     "data": {
      "text/html": [
       "0"
      ],
      "text/latex": [
       "0"
      ],
      "text/markdown": [
       "0"
      ],
      "text/plain": [
       "[1] 0"
      ]
     },
     "metadata": {},
     "output_type": "display_data"
    },
    {
     "data": {
      "text/html": [
       "0"
      ],
      "text/latex": [
       "0"
      ],
      "text/markdown": [
       "0"
      ],
      "text/plain": [
       "[1] 0"
      ]
     },
     "metadata": {},
     "output_type": "display_data"
    }
   ],
   "source": [
    "# check for missing values\n",
    "sum(is.na(daily_activity)) \n",
    "sum(is.na(daily_sleep)) "
   ]
  },
  {
   "cell_type": "markdown",
   "id": "7a0b08ec",
   "metadata": {
    "papermill": {
     "duration": 0.01627,
     "end_time": "2023-05-01T20:45:17.566432",
     "exception": false,
     "start_time": "2023-05-01T20:45:17.550162",
     "status": "completed"
    },
    "tags": []
   },
   "source": [
    "Merge into one dataframe before continue cleaning."
   ]
  },
  {
   "cell_type": "code",
   "execution_count": 21,
   "id": "dbeea2a0",
   "metadata": {
    "execution": {
     "iopub.execute_input": "2023-05-01T20:45:17.601942Z",
     "iopub.status.busy": "2023-05-01T20:45:17.600701Z",
     "iopub.status.idle": "2023-05-01T20:45:17.644762Z",
     "shell.execute_reply": "2023-05-01T20:45:17.642856Z"
    },
    "papermill": {
     "duration": 0.064185,
     "end_time": "2023-05-01T20:45:17.646901",
     "exception": false,
     "start_time": "2023-05-01T20:45:17.582716",
     "status": "completed"
    },
    "tags": []
   },
   "outputs": [
    {
     "data": {
      "text/html": [
       "<table class=\"dataframe\">\n",
       "<caption>A data.frame: 6 × 19</caption>\n",
       "<thead>\n",
       "\t<tr><th></th><th scope=col>Id</th><th scope=col>date</th><th scope=col>TotalSteps</th><th scope=col>TotalDistance</th><th scope=col>TrackerDistance</th><th scope=col>LoggedActivitiesDistance</th><th scope=col>VeryActiveDistance</th><th scope=col>ModeratelyActiveDistance</th><th scope=col>LightActiveDistance</th><th scope=col>SedentaryActiveDistance</th><th scope=col>VeryActiveMinutes</th><th scope=col>FairlyActiveMinutes</th><th scope=col>LightlyActiveMinutes</th><th scope=col>SedentaryMinutes</th><th scope=col>Calories</th><th scope=col>time</th><th scope=col>TotalSleepRecords</th><th scope=col>TotalMinutesAsleep</th><th scope=col>TotalTimeInBed</th></tr>\n",
       "\t<tr><th></th><th scope=col>&lt;dbl&gt;</th><th scope=col>&lt;date&gt;</th><th scope=col>&lt;int&gt;</th><th scope=col>&lt;dbl&gt;</th><th scope=col>&lt;dbl&gt;</th><th scope=col>&lt;dbl&gt;</th><th scope=col>&lt;dbl&gt;</th><th scope=col>&lt;dbl&gt;</th><th scope=col>&lt;dbl&gt;</th><th scope=col>&lt;dbl&gt;</th><th scope=col>&lt;int&gt;</th><th scope=col>&lt;int&gt;</th><th scope=col>&lt;int&gt;</th><th scope=col>&lt;int&gt;</th><th scope=col>&lt;int&gt;</th><th scope=col>&lt;Period&gt;</th><th scope=col>&lt;int&gt;</th><th scope=col>&lt;int&gt;</th><th scope=col>&lt;int&gt;</th></tr>\n",
       "</thead>\n",
       "<tbody>\n",
       "\t<tr><th scope=row>1</th><td>1503960366</td><td>2016-04-12</td><td>13162</td><td>8.50</td><td>8.50</td><td>0</td><td>1.88</td><td>0.55</td><td>6.06</td><td>0</td><td>25</td><td>13</td><td>328</td><td>728</td><td>1985</td><td>12H 0M 0S</td><td>1</td><td>327</td><td>346</td></tr>\n",
       "\t<tr><th scope=row>2</th><td>1503960366</td><td>2016-04-13</td><td>10735</td><td>6.97</td><td>6.97</td><td>0</td><td>1.57</td><td>0.69</td><td>4.71</td><td>0</td><td>21</td><td>19</td><td>217</td><td>776</td><td>1797</td><td>12H 0M 0S</td><td>2</td><td>384</td><td>407</td></tr>\n",
       "\t<tr><th scope=row>3</th><td>1503960366</td><td>2016-04-15</td><td> 9762</td><td>6.28</td><td>6.28</td><td>0</td><td>2.14</td><td>1.26</td><td>2.83</td><td>0</td><td>29</td><td>34</td><td>209</td><td>726</td><td>1745</td><td>12H 0M 0S</td><td>1</td><td>412</td><td>442</td></tr>\n",
       "\t<tr><th scope=row>4</th><td>1503960366</td><td>2016-04-16</td><td>12669</td><td>8.16</td><td>8.16</td><td>0</td><td>2.71</td><td>0.41</td><td>5.04</td><td>0</td><td>36</td><td>10</td><td>221</td><td>773</td><td>1863</td><td>12H 0M 0S</td><td>2</td><td>340</td><td>367</td></tr>\n",
       "\t<tr><th scope=row>5</th><td>1503960366</td><td>2016-04-17</td><td> 9705</td><td>6.48</td><td>6.48</td><td>0</td><td>3.19</td><td>0.78</td><td>2.51</td><td>0</td><td>38</td><td>20</td><td>164</td><td>539</td><td>1728</td><td>12H 0M 0S</td><td>1</td><td>700</td><td>712</td></tr>\n",
       "\t<tr><th scope=row>6</th><td>1503960366</td><td>2016-04-19</td><td>15506</td><td>9.88</td><td>9.88</td><td>0</td><td>3.53</td><td>1.32</td><td>5.03</td><td>0</td><td>50</td><td>31</td><td>264</td><td>775</td><td>2035</td><td>12H 0M 0S</td><td>1</td><td>304</td><td>320</td></tr>\n",
       "</tbody>\n",
       "</table>\n"
      ],
      "text/latex": [
       "A data.frame: 6 × 19\n",
       "\\begin{tabular}{r|lllllllllllllllllll}\n",
       "  & Id & date & TotalSteps & TotalDistance & TrackerDistance & LoggedActivitiesDistance & VeryActiveDistance & ModeratelyActiveDistance & LightActiveDistance & SedentaryActiveDistance & VeryActiveMinutes & FairlyActiveMinutes & LightlyActiveMinutes & SedentaryMinutes & Calories & time & TotalSleepRecords & TotalMinutesAsleep & TotalTimeInBed\\\\\n",
       "  & <dbl> & <date> & <int> & <dbl> & <dbl> & <dbl> & <dbl> & <dbl> & <dbl> & <dbl> & <int> & <int> & <int> & <int> & <int> & <Period> & <int> & <int> & <int>\\\\\n",
       "\\hline\n",
       "\t1 & 1503960366 & 2016-04-12 & 13162 & 8.50 & 8.50 & 0 & 1.88 & 0.55 & 6.06 & 0 & 25 & 13 & 328 & 728 & 1985 & 12H 0M 0S & 1 & 327 & 346\\\\\n",
       "\t2 & 1503960366 & 2016-04-13 & 10735 & 6.97 & 6.97 & 0 & 1.57 & 0.69 & 4.71 & 0 & 21 & 19 & 217 & 776 & 1797 & 12H 0M 0S & 2 & 384 & 407\\\\\n",
       "\t3 & 1503960366 & 2016-04-15 &  9762 & 6.28 & 6.28 & 0 & 2.14 & 1.26 & 2.83 & 0 & 29 & 34 & 209 & 726 & 1745 & 12H 0M 0S & 1 & 412 & 442\\\\\n",
       "\t4 & 1503960366 & 2016-04-16 & 12669 & 8.16 & 8.16 & 0 & 2.71 & 0.41 & 5.04 & 0 & 36 & 10 & 221 & 773 & 1863 & 12H 0M 0S & 2 & 340 & 367\\\\\n",
       "\t5 & 1503960366 & 2016-04-17 &  9705 & 6.48 & 6.48 & 0 & 3.19 & 0.78 & 2.51 & 0 & 38 & 20 & 164 & 539 & 1728 & 12H 0M 0S & 1 & 700 & 712\\\\\n",
       "\t6 & 1503960366 & 2016-04-19 & 15506 & 9.88 & 9.88 & 0 & 3.53 & 1.32 & 5.03 & 0 & 50 & 31 & 264 & 775 & 2035 & 12H 0M 0S & 1 & 304 & 320\\\\\n",
       "\\end{tabular}\n"
      ],
      "text/markdown": [
       "\n",
       "A data.frame: 6 × 19\n",
       "\n",
       "| <!--/--> | Id &lt;dbl&gt; | date &lt;date&gt; | TotalSteps &lt;int&gt; | TotalDistance &lt;dbl&gt; | TrackerDistance &lt;dbl&gt; | LoggedActivitiesDistance &lt;dbl&gt; | VeryActiveDistance &lt;dbl&gt; | ModeratelyActiveDistance &lt;dbl&gt; | LightActiveDistance &lt;dbl&gt; | SedentaryActiveDistance &lt;dbl&gt; | VeryActiveMinutes &lt;int&gt; | FairlyActiveMinutes &lt;int&gt; | LightlyActiveMinutes &lt;int&gt; | SedentaryMinutes &lt;int&gt; | Calories &lt;int&gt; | time &lt;Period&gt; | TotalSleepRecords &lt;int&gt; | TotalMinutesAsleep &lt;int&gt; | TotalTimeInBed &lt;int&gt; |\n",
       "|---|---|---|---|---|---|---|---|---|---|---|---|---|---|---|---|---|---|---|---|\n",
       "| 1 | 1503960366 | 2016-04-12 | 13162 | 8.50 | 8.50 | 0 | 1.88 | 0.55 | 6.06 | 0 | 25 | 13 | 328 | 728 | 1985 | 12H 0M 0S | 1 | 327 | 346 |\n",
       "| 2 | 1503960366 | 2016-04-13 | 10735 | 6.97 | 6.97 | 0 | 1.57 | 0.69 | 4.71 | 0 | 21 | 19 | 217 | 776 | 1797 | 12H 0M 0S | 2 | 384 | 407 |\n",
       "| 3 | 1503960366 | 2016-04-15 |  9762 | 6.28 | 6.28 | 0 | 2.14 | 1.26 | 2.83 | 0 | 29 | 34 | 209 | 726 | 1745 | 12H 0M 0S | 1 | 412 | 442 |\n",
       "| 4 | 1503960366 | 2016-04-16 | 12669 | 8.16 | 8.16 | 0 | 2.71 | 0.41 | 5.04 | 0 | 36 | 10 | 221 | 773 | 1863 | 12H 0M 0S | 2 | 340 | 367 |\n",
       "| 5 | 1503960366 | 2016-04-17 |  9705 | 6.48 | 6.48 | 0 | 3.19 | 0.78 | 2.51 | 0 | 38 | 20 | 164 | 539 | 1728 | 12H 0M 0S | 1 | 700 | 712 |\n",
       "| 6 | 1503960366 | 2016-04-19 | 15506 | 9.88 | 9.88 | 0 | 3.53 | 1.32 | 5.03 | 0 | 50 | 31 | 264 | 775 | 2035 | 12H 0M 0S | 1 | 304 | 320 |\n",
       "\n"
      ],
      "text/plain": [
       "  Id         date       TotalSteps TotalDistance TrackerDistance\n",
       "1 1503960366 2016-04-12 13162      8.50          8.50           \n",
       "2 1503960366 2016-04-13 10735      6.97          6.97           \n",
       "3 1503960366 2016-04-15  9762      6.28          6.28           \n",
       "4 1503960366 2016-04-16 12669      8.16          8.16           \n",
       "5 1503960366 2016-04-17  9705      6.48          6.48           \n",
       "6 1503960366 2016-04-19 15506      9.88          9.88           \n",
       "  LoggedActivitiesDistance VeryActiveDistance ModeratelyActiveDistance\n",
       "1 0                        1.88               0.55                    \n",
       "2 0                        1.57               0.69                    \n",
       "3 0                        2.14               1.26                    \n",
       "4 0                        2.71               0.41                    \n",
       "5 0                        3.19               0.78                    \n",
       "6 0                        3.53               1.32                    \n",
       "  LightActiveDistance SedentaryActiveDistance VeryActiveMinutes\n",
       "1 6.06                0                       25               \n",
       "2 4.71                0                       21               \n",
       "3 2.83                0                       29               \n",
       "4 5.04                0                       36               \n",
       "5 2.51                0                       38               \n",
       "6 5.03                0                       50               \n",
       "  FairlyActiveMinutes LightlyActiveMinutes SedentaryMinutes Calories time     \n",
       "1 13                  328                  728              1985     12H 0M 0S\n",
       "2 19                  217                  776              1797     12H 0M 0S\n",
       "3 34                  209                  726              1745     12H 0M 0S\n",
       "4 10                  221                  773              1863     12H 0M 0S\n",
       "5 20                  164                  539              1728     12H 0M 0S\n",
       "6 31                  264                  775              2035     12H 0M 0S\n",
       "  TotalSleepRecords TotalMinutesAsleep TotalTimeInBed\n",
       "1 1                 327                346           \n",
       "2 2                 384                407           \n",
       "3 1                 412                442           \n",
       "4 2                 340                367           \n",
       "5 1                 700                712           \n",
       "6 1                 304                320           "
      ]
     },
     "metadata": {},
     "output_type": "display_data"
    }
   ],
   "source": [
    "# Merge into one df\n",
    "daily_merged <- merge(daily_activity, daily_sleep, by=c('Id', 'date'))\n",
    "head(daily_merged)"
   ]
  },
  {
   "cell_type": "markdown",
   "id": "93297d9e",
   "metadata": {
    "papermill": {
     "duration": 0.01664,
     "end_time": "2023-05-01T20:45:17.680542",
     "exception": false,
     "start_time": "2023-05-01T20:45:17.663902",
     "status": "completed"
    },
    "tags": []
   },
   "source": [
    "Remove columns with null, duplicate and uneccessary values and save as new dataframe."
   ]
  },
  {
   "cell_type": "code",
   "execution_count": 22,
   "id": "7420a805",
   "metadata": {
    "execution": {
     "iopub.execute_input": "2023-05-01T20:45:17.717222Z",
     "iopub.status.busy": "2023-05-01T20:45:17.715871Z",
     "iopub.status.idle": "2023-05-01T20:45:17.751418Z",
     "shell.execute_reply": "2023-05-01T20:45:17.749329Z"
    },
    "papermill": {
     "duration": 0.056292,
     "end_time": "2023-05-01T20:45:17.753686",
     "exception": false,
     "start_time": "2023-05-01T20:45:17.697394",
     "status": "completed"
    },
    "tags": []
   },
   "outputs": [
    {
     "data": {
      "text/html": [
       "<table class=\"dataframe\">\n",
       "<caption>A data.frame: 6 × 15</caption>\n",
       "<thead>\n",
       "\t<tr><th></th><th scope=col>Id</th><th scope=col>date</th><th scope=col>TotalSteps</th><th scope=col>TotalDistance</th><th scope=col>VeryActiveDistance</th><th scope=col>ModeratelyActiveDistance</th><th scope=col>LightActiveDistance</th><th scope=col>VeryActiveMinutes</th><th scope=col>FairlyActiveMinutes</th><th scope=col>LightlyActiveMinutes</th><th scope=col>SedentaryMinutes</th><th scope=col>Calories</th><th scope=col>TotalSleepRecords</th><th scope=col>TotalMinutesAsleep</th><th scope=col>TotalTimeInBed</th></tr>\n",
       "\t<tr><th></th><th scope=col>&lt;dbl&gt;</th><th scope=col>&lt;date&gt;</th><th scope=col>&lt;int&gt;</th><th scope=col>&lt;dbl&gt;</th><th scope=col>&lt;dbl&gt;</th><th scope=col>&lt;dbl&gt;</th><th scope=col>&lt;dbl&gt;</th><th scope=col>&lt;int&gt;</th><th scope=col>&lt;int&gt;</th><th scope=col>&lt;int&gt;</th><th scope=col>&lt;int&gt;</th><th scope=col>&lt;int&gt;</th><th scope=col>&lt;int&gt;</th><th scope=col>&lt;int&gt;</th><th scope=col>&lt;int&gt;</th></tr>\n",
       "</thead>\n",
       "<tbody>\n",
       "\t<tr><th scope=row>1</th><td>1503960366</td><td>2016-04-12</td><td>13162</td><td>8.50</td><td>1.88</td><td>0.55</td><td>6.06</td><td>25</td><td>13</td><td>328</td><td>728</td><td>1985</td><td>1</td><td>327</td><td>346</td></tr>\n",
       "\t<tr><th scope=row>2</th><td>1503960366</td><td>2016-04-13</td><td>10735</td><td>6.97</td><td>1.57</td><td>0.69</td><td>4.71</td><td>21</td><td>19</td><td>217</td><td>776</td><td>1797</td><td>2</td><td>384</td><td>407</td></tr>\n",
       "\t<tr><th scope=row>3</th><td>1503960366</td><td>2016-04-15</td><td> 9762</td><td>6.28</td><td>2.14</td><td>1.26</td><td>2.83</td><td>29</td><td>34</td><td>209</td><td>726</td><td>1745</td><td>1</td><td>412</td><td>442</td></tr>\n",
       "\t<tr><th scope=row>4</th><td>1503960366</td><td>2016-04-16</td><td>12669</td><td>8.16</td><td>2.71</td><td>0.41</td><td>5.04</td><td>36</td><td>10</td><td>221</td><td>773</td><td>1863</td><td>2</td><td>340</td><td>367</td></tr>\n",
       "\t<tr><th scope=row>5</th><td>1503960366</td><td>2016-04-17</td><td> 9705</td><td>6.48</td><td>3.19</td><td>0.78</td><td>2.51</td><td>38</td><td>20</td><td>164</td><td>539</td><td>1728</td><td>1</td><td>700</td><td>712</td></tr>\n",
       "\t<tr><th scope=row>6</th><td>1503960366</td><td>2016-04-19</td><td>15506</td><td>9.88</td><td>3.53</td><td>1.32</td><td>5.03</td><td>50</td><td>31</td><td>264</td><td>775</td><td>2035</td><td>1</td><td>304</td><td>320</td></tr>\n",
       "</tbody>\n",
       "</table>\n"
      ],
      "text/latex": [
       "A data.frame: 6 × 15\n",
       "\\begin{tabular}{r|lllllllllllllll}\n",
       "  & Id & date & TotalSteps & TotalDistance & VeryActiveDistance & ModeratelyActiveDistance & LightActiveDistance & VeryActiveMinutes & FairlyActiveMinutes & LightlyActiveMinutes & SedentaryMinutes & Calories & TotalSleepRecords & TotalMinutesAsleep & TotalTimeInBed\\\\\n",
       "  & <dbl> & <date> & <int> & <dbl> & <dbl> & <dbl> & <dbl> & <int> & <int> & <int> & <int> & <int> & <int> & <int> & <int>\\\\\n",
       "\\hline\n",
       "\t1 & 1503960366 & 2016-04-12 & 13162 & 8.50 & 1.88 & 0.55 & 6.06 & 25 & 13 & 328 & 728 & 1985 & 1 & 327 & 346\\\\\n",
       "\t2 & 1503960366 & 2016-04-13 & 10735 & 6.97 & 1.57 & 0.69 & 4.71 & 21 & 19 & 217 & 776 & 1797 & 2 & 384 & 407\\\\\n",
       "\t3 & 1503960366 & 2016-04-15 &  9762 & 6.28 & 2.14 & 1.26 & 2.83 & 29 & 34 & 209 & 726 & 1745 & 1 & 412 & 442\\\\\n",
       "\t4 & 1503960366 & 2016-04-16 & 12669 & 8.16 & 2.71 & 0.41 & 5.04 & 36 & 10 & 221 & 773 & 1863 & 2 & 340 & 367\\\\\n",
       "\t5 & 1503960366 & 2016-04-17 &  9705 & 6.48 & 3.19 & 0.78 & 2.51 & 38 & 20 & 164 & 539 & 1728 & 1 & 700 & 712\\\\\n",
       "\t6 & 1503960366 & 2016-04-19 & 15506 & 9.88 & 3.53 & 1.32 & 5.03 & 50 & 31 & 264 & 775 & 2035 & 1 & 304 & 320\\\\\n",
       "\\end{tabular}\n"
      ],
      "text/markdown": [
       "\n",
       "A data.frame: 6 × 15\n",
       "\n",
       "| <!--/--> | Id &lt;dbl&gt; | date &lt;date&gt; | TotalSteps &lt;int&gt; | TotalDistance &lt;dbl&gt; | VeryActiveDistance &lt;dbl&gt; | ModeratelyActiveDistance &lt;dbl&gt; | LightActiveDistance &lt;dbl&gt; | VeryActiveMinutes &lt;int&gt; | FairlyActiveMinutes &lt;int&gt; | LightlyActiveMinutes &lt;int&gt; | SedentaryMinutes &lt;int&gt; | Calories &lt;int&gt; | TotalSleepRecords &lt;int&gt; | TotalMinutesAsleep &lt;int&gt; | TotalTimeInBed &lt;int&gt; |\n",
       "|---|---|---|---|---|---|---|---|---|---|---|---|---|---|---|---|\n",
       "| 1 | 1503960366 | 2016-04-12 | 13162 | 8.50 | 1.88 | 0.55 | 6.06 | 25 | 13 | 328 | 728 | 1985 | 1 | 327 | 346 |\n",
       "| 2 | 1503960366 | 2016-04-13 | 10735 | 6.97 | 1.57 | 0.69 | 4.71 | 21 | 19 | 217 | 776 | 1797 | 2 | 384 | 407 |\n",
       "| 3 | 1503960366 | 2016-04-15 |  9762 | 6.28 | 2.14 | 1.26 | 2.83 | 29 | 34 | 209 | 726 | 1745 | 1 | 412 | 442 |\n",
       "| 4 | 1503960366 | 2016-04-16 | 12669 | 8.16 | 2.71 | 0.41 | 5.04 | 36 | 10 | 221 | 773 | 1863 | 2 | 340 | 367 |\n",
       "| 5 | 1503960366 | 2016-04-17 |  9705 | 6.48 | 3.19 | 0.78 | 2.51 | 38 | 20 | 164 | 539 | 1728 | 1 | 700 | 712 |\n",
       "| 6 | 1503960366 | 2016-04-19 | 15506 | 9.88 | 3.53 | 1.32 | 5.03 | 50 | 31 | 264 | 775 | 2035 | 1 | 304 | 320 |\n",
       "\n"
      ],
      "text/plain": [
       "  Id         date       TotalSteps TotalDistance VeryActiveDistance\n",
       "1 1503960366 2016-04-12 13162      8.50          1.88              \n",
       "2 1503960366 2016-04-13 10735      6.97          1.57              \n",
       "3 1503960366 2016-04-15  9762      6.28          2.14              \n",
       "4 1503960366 2016-04-16 12669      8.16          2.71              \n",
       "5 1503960366 2016-04-17  9705      6.48          3.19              \n",
       "6 1503960366 2016-04-19 15506      9.88          3.53              \n",
       "  ModeratelyActiveDistance LightActiveDistance VeryActiveMinutes\n",
       "1 0.55                     6.06                25               \n",
       "2 0.69                     4.71                21               \n",
       "3 1.26                     2.83                29               \n",
       "4 0.41                     5.04                36               \n",
       "5 0.78                     2.51                38               \n",
       "6 1.32                     5.03                50               \n",
       "  FairlyActiveMinutes LightlyActiveMinutes SedentaryMinutes Calories\n",
       "1 13                  328                  728              1985    \n",
       "2 19                  217                  776              1797    \n",
       "3 34                  209                  726              1745    \n",
       "4 10                  221                  773              1863    \n",
       "5 20                  164                  539              1728    \n",
       "6 31                  264                  775              2035    \n",
       "  TotalSleepRecords TotalMinutesAsleep TotalTimeInBed\n",
       "1 1                 327                346           \n",
       "2 2                 384                407           \n",
       "3 1                 412                442           \n",
       "4 2                 340                367           \n",
       "5 1                 700                712           \n",
       "6 1                 304                320           "
      ]
     },
     "metadata": {},
     "output_type": "display_data"
    }
   ],
   "source": [
    "# LoggedActivities(column 6),SedentaryActivities(column 10): null\n",
    "# TrackerDistance(column 5): duplicate\n",
    "# time(column 16): uneccessary\n",
    "daily_merged_trimmed <- daily_merged %>% select(-5,-6,-10,-16) \n",
    "head(daily_merged_trimmed)"
   ]
  },
  {
   "cell_type": "markdown",
   "id": "8ba902ae",
   "metadata": {
    "papermill": {
     "duration": 0.017087,
     "end_time": "2023-05-01T20:45:17.787839",
     "exception": false,
     "start_time": "2023-05-01T20:45:17.770752",
     "status": "completed"
    },
    "tags": []
   },
   "source": [
    "Clean variable names for consistency and ease of use."
   ]
  },
  {
   "cell_type": "code",
   "execution_count": 23,
   "id": "927f98aa",
   "metadata": {
    "execution": {
     "iopub.execute_input": "2023-05-01T20:45:17.826696Z",
     "iopub.status.busy": "2023-05-01T20:45:17.825199Z",
     "iopub.status.idle": "2023-05-01T20:45:17.921688Z",
     "shell.execute_reply": "2023-05-01T20:45:17.919540Z"
    },
    "papermill": {
     "duration": 0.118269,
     "end_time": "2023-05-01T20:45:17.923970",
     "exception": false,
     "start_time": "2023-05-01T20:45:17.805701",
     "status": "completed"
    },
    "tags": []
   },
   "outputs": [
    {
     "data": {
      "text/html": [
       "<table class=\"dataframe\">\n",
       "<caption>A data.frame: 6 × 15</caption>\n",
       "<thead>\n",
       "\t<tr><th></th><th scope=col>id</th><th scope=col>date</th><th scope=col>total_steps</th><th scope=col>total_distance</th><th scope=col>very_active_distance</th><th scope=col>moderately_active_distance</th><th scope=col>light_active_distance</th><th scope=col>very_active_minutes</th><th scope=col>fairly_active_minutes</th><th scope=col>lightly_active_minutes</th><th scope=col>sedentary_minutes</th><th scope=col>calories</th><th scope=col>total_sleep_records</th><th scope=col>total_minutes_asleep</th><th scope=col>total_time_in_bed</th></tr>\n",
       "\t<tr><th></th><th scope=col>&lt;dbl&gt;</th><th scope=col>&lt;date&gt;</th><th scope=col>&lt;int&gt;</th><th scope=col>&lt;dbl&gt;</th><th scope=col>&lt;dbl&gt;</th><th scope=col>&lt;dbl&gt;</th><th scope=col>&lt;dbl&gt;</th><th scope=col>&lt;int&gt;</th><th scope=col>&lt;int&gt;</th><th scope=col>&lt;int&gt;</th><th scope=col>&lt;int&gt;</th><th scope=col>&lt;int&gt;</th><th scope=col>&lt;int&gt;</th><th scope=col>&lt;int&gt;</th><th scope=col>&lt;int&gt;</th></tr>\n",
       "</thead>\n",
       "<tbody>\n",
       "\t<tr><th scope=row>1</th><td>1503960366</td><td>2016-04-12</td><td>13162</td><td>8.50</td><td>1.88</td><td>0.55</td><td>6.06</td><td>25</td><td>13</td><td>328</td><td>728</td><td>1985</td><td>1</td><td>327</td><td>346</td></tr>\n",
       "\t<tr><th scope=row>2</th><td>1503960366</td><td>2016-04-13</td><td>10735</td><td>6.97</td><td>1.57</td><td>0.69</td><td>4.71</td><td>21</td><td>19</td><td>217</td><td>776</td><td>1797</td><td>2</td><td>384</td><td>407</td></tr>\n",
       "\t<tr><th scope=row>3</th><td>1503960366</td><td>2016-04-15</td><td> 9762</td><td>6.28</td><td>2.14</td><td>1.26</td><td>2.83</td><td>29</td><td>34</td><td>209</td><td>726</td><td>1745</td><td>1</td><td>412</td><td>442</td></tr>\n",
       "\t<tr><th scope=row>4</th><td>1503960366</td><td>2016-04-16</td><td>12669</td><td>8.16</td><td>2.71</td><td>0.41</td><td>5.04</td><td>36</td><td>10</td><td>221</td><td>773</td><td>1863</td><td>2</td><td>340</td><td>367</td></tr>\n",
       "\t<tr><th scope=row>5</th><td>1503960366</td><td>2016-04-17</td><td> 9705</td><td>6.48</td><td>3.19</td><td>0.78</td><td>2.51</td><td>38</td><td>20</td><td>164</td><td>539</td><td>1728</td><td>1</td><td>700</td><td>712</td></tr>\n",
       "\t<tr><th scope=row>6</th><td>1503960366</td><td>2016-04-19</td><td>15506</td><td>9.88</td><td>3.53</td><td>1.32</td><td>5.03</td><td>50</td><td>31</td><td>264</td><td>775</td><td>2035</td><td>1</td><td>304</td><td>320</td></tr>\n",
       "</tbody>\n",
       "</table>\n"
      ],
      "text/latex": [
       "A data.frame: 6 × 15\n",
       "\\begin{tabular}{r|lllllllllllllll}\n",
       "  & id & date & total\\_steps & total\\_distance & very\\_active\\_distance & moderately\\_active\\_distance & light\\_active\\_distance & very\\_active\\_minutes & fairly\\_active\\_minutes & lightly\\_active\\_minutes & sedentary\\_minutes & calories & total\\_sleep\\_records & total\\_minutes\\_asleep & total\\_time\\_in\\_bed\\\\\n",
       "  & <dbl> & <date> & <int> & <dbl> & <dbl> & <dbl> & <dbl> & <int> & <int> & <int> & <int> & <int> & <int> & <int> & <int>\\\\\n",
       "\\hline\n",
       "\t1 & 1503960366 & 2016-04-12 & 13162 & 8.50 & 1.88 & 0.55 & 6.06 & 25 & 13 & 328 & 728 & 1985 & 1 & 327 & 346\\\\\n",
       "\t2 & 1503960366 & 2016-04-13 & 10735 & 6.97 & 1.57 & 0.69 & 4.71 & 21 & 19 & 217 & 776 & 1797 & 2 & 384 & 407\\\\\n",
       "\t3 & 1503960366 & 2016-04-15 &  9762 & 6.28 & 2.14 & 1.26 & 2.83 & 29 & 34 & 209 & 726 & 1745 & 1 & 412 & 442\\\\\n",
       "\t4 & 1503960366 & 2016-04-16 & 12669 & 8.16 & 2.71 & 0.41 & 5.04 & 36 & 10 & 221 & 773 & 1863 & 2 & 340 & 367\\\\\n",
       "\t5 & 1503960366 & 2016-04-17 &  9705 & 6.48 & 3.19 & 0.78 & 2.51 & 38 & 20 & 164 & 539 & 1728 & 1 & 700 & 712\\\\\n",
       "\t6 & 1503960366 & 2016-04-19 & 15506 & 9.88 & 3.53 & 1.32 & 5.03 & 50 & 31 & 264 & 775 & 2035 & 1 & 304 & 320\\\\\n",
       "\\end{tabular}\n"
      ],
      "text/markdown": [
       "\n",
       "A data.frame: 6 × 15\n",
       "\n",
       "| <!--/--> | id &lt;dbl&gt; | date &lt;date&gt; | total_steps &lt;int&gt; | total_distance &lt;dbl&gt; | very_active_distance &lt;dbl&gt; | moderately_active_distance &lt;dbl&gt; | light_active_distance &lt;dbl&gt; | very_active_minutes &lt;int&gt; | fairly_active_minutes &lt;int&gt; | lightly_active_minutes &lt;int&gt; | sedentary_minutes &lt;int&gt; | calories &lt;int&gt; | total_sleep_records &lt;int&gt; | total_minutes_asleep &lt;int&gt; | total_time_in_bed &lt;int&gt; |\n",
       "|---|---|---|---|---|---|---|---|---|---|---|---|---|---|---|---|\n",
       "| 1 | 1503960366 | 2016-04-12 | 13162 | 8.50 | 1.88 | 0.55 | 6.06 | 25 | 13 | 328 | 728 | 1985 | 1 | 327 | 346 |\n",
       "| 2 | 1503960366 | 2016-04-13 | 10735 | 6.97 | 1.57 | 0.69 | 4.71 | 21 | 19 | 217 | 776 | 1797 | 2 | 384 | 407 |\n",
       "| 3 | 1503960366 | 2016-04-15 |  9762 | 6.28 | 2.14 | 1.26 | 2.83 | 29 | 34 | 209 | 726 | 1745 | 1 | 412 | 442 |\n",
       "| 4 | 1503960366 | 2016-04-16 | 12669 | 8.16 | 2.71 | 0.41 | 5.04 | 36 | 10 | 221 | 773 | 1863 | 2 | 340 | 367 |\n",
       "| 5 | 1503960366 | 2016-04-17 |  9705 | 6.48 | 3.19 | 0.78 | 2.51 | 38 | 20 | 164 | 539 | 1728 | 1 | 700 | 712 |\n",
       "| 6 | 1503960366 | 2016-04-19 | 15506 | 9.88 | 3.53 | 1.32 | 5.03 | 50 | 31 | 264 | 775 | 2035 | 1 | 304 | 320 |\n",
       "\n"
      ],
      "text/plain": [
       "  id         date       total_steps total_distance very_active_distance\n",
       "1 1503960366 2016-04-12 13162       8.50           1.88                \n",
       "2 1503960366 2016-04-13 10735       6.97           1.57                \n",
       "3 1503960366 2016-04-15  9762       6.28           2.14                \n",
       "4 1503960366 2016-04-16 12669       8.16           2.71                \n",
       "5 1503960366 2016-04-17  9705       6.48           3.19                \n",
       "6 1503960366 2016-04-19 15506       9.88           3.53                \n",
       "  moderately_active_distance light_active_distance very_active_minutes\n",
       "1 0.55                       6.06                  25                 \n",
       "2 0.69                       4.71                  21                 \n",
       "3 1.26                       2.83                  29                 \n",
       "4 0.41                       5.04                  36                 \n",
       "5 0.78                       2.51                  38                 \n",
       "6 1.32                       5.03                  50                 \n",
       "  fairly_active_minutes lightly_active_minutes sedentary_minutes calories\n",
       "1 13                    328                    728               1985    \n",
       "2 19                    217                    776               1797    \n",
       "3 34                    209                    726               1745    \n",
       "4 10                    221                    773               1863    \n",
       "5 20                    164                    539               1728    \n",
       "6 31                    264                    775               2035    \n",
       "  total_sleep_records total_minutes_asleep total_time_in_bed\n",
       "1 1                   327                  346              \n",
       "2 2                   384                  407              \n",
       "3 1                   412                  442              \n",
       "4 2                   340                  367              \n",
       "5 1                   700                  712              \n",
       "6 1                   304                  320              "
      ]
     },
     "metadata": {},
     "output_type": "display_data"
    }
   ],
   "source": [
    "# clean names\n",
    "daily_activity_sleep <- clean_names(daily_merged_trimmed) \n",
    "head(daily_activity_sleep)"
   ]
  },
  {
   "cell_type": "markdown",
   "id": "f9155ce9",
   "metadata": {
    "papermill": {
     "duration": 0.017275,
     "end_time": "2023-05-01T20:45:17.959297",
     "exception": false,
     "start_time": "2023-05-01T20:45:17.942022",
     "status": "completed"
    },
    "tags": []
   },
   "source": [
    "# Analyze"
   ]
  },
  {
   "cell_type": "markdown",
   "id": "5ae9b200",
   "metadata": {
    "papermill": {
     "duration": 0.017507,
     "end_time": "2023-05-01T20:45:17.994257",
     "exception": false,
     "start_time": "2023-05-01T20:45:17.976750",
     "status": "completed"
    },
    "tags": []
   },
   "source": [
    "I want to start with a glance at the statistical summaries. "
   ]
  },
  {
   "cell_type": "code",
   "execution_count": 24,
   "id": "5edbcde0",
   "metadata": {
    "execution": {
     "iopub.execute_input": "2023-05-01T20:45:18.032238Z",
     "iopub.status.busy": "2023-05-01T20:45:18.030768Z",
     "iopub.status.idle": "2023-05-01T20:45:18.051754Z",
     "shell.execute_reply": "2023-05-01T20:45:18.050067Z"
    },
    "papermill": {
     "duration": 0.042271,
     "end_time": "2023-05-01T20:45:18.053826",
     "exception": false,
     "start_time": "2023-05-01T20:45:18.011555",
     "status": "completed"
    },
    "tags": []
   },
   "outputs": [
    {
     "data": {
      "text/plain": [
       "       id                 date             total_steps    total_distance  \n",
       " Min.   :1.504e+09   Min.   :2016-04-12   Min.   :   17   Min.   : 0.010  \n",
       " 1st Qu.:3.977e+09   1st Qu.:2016-04-19   1st Qu.: 5189   1st Qu.: 3.592  \n",
       " Median :4.703e+09   Median :2016-04-27   Median : 8913   Median : 6.270  \n",
       " Mean   :4.995e+09   Mean   :2016-04-26   Mean   : 8515   Mean   : 6.012  \n",
       " 3rd Qu.:6.962e+09   3rd Qu.:2016-05-04   3rd Qu.:11370   3rd Qu.: 8.005  \n",
       " Max.   :8.792e+09   Max.   :2016-05-12   Max.   :22770   Max.   :17.540  \n",
       " very_active_distance moderately_active_distance light_active_distance\n",
       " Min.   : 0.000       Min.   :0.0000             Min.   :0.010        \n",
       " 1st Qu.: 0.000       1st Qu.:0.0000             1st Qu.:2.540        \n",
       " Median : 0.570       Median :0.4200             Median :3.665        \n",
       " Mean   : 1.446       Mean   :0.7439             Mean   :3.791        \n",
       " 3rd Qu.: 2.360       3rd Qu.:1.0375             3rd Qu.:4.918        \n",
       " Max.   :12.540       Max.   :6.4800             Max.   :9.480        \n",
       " very_active_minutes fairly_active_minutes lightly_active_minutes\n",
       " Min.   :  0.00      Min.   :  0.00        Min.   :  2.0         \n",
       " 1st Qu.:  0.00      1st Qu.:  0.00        1st Qu.:158.0         \n",
       " Median :  9.00      Median : 11.00        Median :208.0         \n",
       " Mean   : 25.05      Mean   : 17.92        Mean   :216.5         \n",
       " 3rd Qu.: 38.00      3rd Qu.: 26.75        3rd Qu.:263.0         \n",
       " Max.   :210.00      Max.   :143.00        Max.   :518.0         \n",
       " sedentary_minutes    calories    total_sleep_records total_minutes_asleep\n",
       " Min.   :   0.0    Min.   : 257   Min.   :1.00        Min.   : 58.0       \n",
       " 1st Qu.: 631.2    1st Qu.:1841   1st Qu.:1.00        1st Qu.:361.0       \n",
       " Median : 717.0    Median :2207   Median :1.00        Median :432.5       \n",
       " Mean   : 712.1    Mean   :2389   Mean   :1.12        Mean   :419.2       \n",
       " 3rd Qu.: 782.8    3rd Qu.:2920   3rd Qu.:1.00        3rd Qu.:490.0       \n",
       " Max.   :1265.0    Max.   :4900   Max.   :3.00        Max.   :796.0       \n",
       " total_time_in_bed\n",
       " Min.   : 61.0    \n",
       " 1st Qu.:403.8    \n",
       " Median :463.0    \n",
       " Mean   :458.5    \n",
       " 3rd Qu.:526.0    \n",
       " Max.   :961.0    "
      ]
     },
     "metadata": {},
     "output_type": "display_data"
    }
   ],
   "source": [
    "# get summary\n",
    "summary(daily_activity_sleep)"
   ]
  },
  {
   "cell_type": "markdown",
   "id": "f4207c7b",
   "metadata": {
    "papermill": {
     "duration": 0.017404,
     "end_time": "2023-05-01T20:45:18.088607",
     "exception": false,
     "start_time": "2023-05-01T20:45:18.071203",
     "status": "completed"
    },
    "tags": []
   },
   "source": [
    "Now I want to narrow it down and explore some initial information. I want to learn more about the average steps, calories, sleep and total time in bed so I'll get those means. "
   ]
  },
  {
   "cell_type": "code",
   "execution_count": 25,
   "id": "ec51dffe",
   "metadata": {
    "execution": {
     "iopub.execute_input": "2023-05-01T20:45:18.126191Z",
     "iopub.status.busy": "2023-05-01T20:45:18.124856Z",
     "iopub.status.idle": "2023-05-01T20:45:18.160279Z",
     "shell.execute_reply": "2023-05-01T20:45:18.158845Z"
    },
    "papermill": {
     "duration": 0.056882,
     "end_time": "2023-05-01T20:45:18.162752",
     "exception": false,
     "start_time": "2023-05-01T20:45:18.105870",
     "status": "completed"
    },
    "tags": []
   },
   "outputs": [
    {
     "data": {
      "text/html": [
       "8514.90975609756"
      ],
      "text/latex": [
       "8514.90975609756"
      ],
      "text/markdown": [
       "8514.90975609756"
      ],
      "text/plain": [
       "[1] 8514.91"
      ]
     },
     "metadata": {},
     "output_type": "display_data"
    },
    {
     "data": {
      "text/html": [
       "2389.29512195122"
      ],
      "text/latex": [
       "2389.29512195122"
      ],
      "text/markdown": [
       "2389.29512195122"
      ],
      "text/plain": [
       "[1] 2389.295"
      ]
     },
     "metadata": {},
     "output_type": "display_data"
    },
    {
     "data": {
      "text/html": [
       "419.173170731707"
      ],
      "text/latex": [
       "419.173170731707"
      ],
      "text/markdown": [
       "419.173170731707"
      ],
      "text/plain": [
       "[1] 419.1732"
      ]
     },
     "metadata": {},
     "output_type": "display_data"
    },
    {
     "data": {
      "text/html": [
       "458.482926829268"
      ],
      "text/latex": [
       "458.482926829268"
      ],
      "text/markdown": [
       "458.482926829268"
      ],
      "text/plain": [
       "[1] 458.4829"
      ]
     },
     "metadata": {},
     "output_type": "display_data"
    }
   ],
   "source": [
    "# get means\n",
    "mean(daily_activity_sleep$total_steps)\n",
    "mean(daily_activity_sleep$calories)\n",
    "mean(daily_activity_sleep$total_minutes_asleep)\n",
    "mean(daily_activity_sleep$total_time_in_bed)"
   ]
  },
  {
   "cell_type": "markdown",
   "id": "04b270df",
   "metadata": {
    "papermill": {
     "duration": 0.018733,
     "end_time": "2023-05-01T20:45:18.199874",
     "exception": false,
     "start_time": "2023-05-01T20:45:18.181141",
     "status": "completed"
    },
    "tags": []
   },
   "source": [
    "**Limitation:** \n",
    "\n",
    "It's unknown if the calorie measurement is calories consumed or calories burned so, I'll disregard this data. "
   ]
  },
  {
   "cell_type": "markdown",
   "id": "895ff2bd",
   "metadata": {
    "papermill": {
     "duration": 0.017985,
     "end_time": "2023-05-01T20:45:18.236645",
     "exception": false,
     "start_time": "2023-05-01T20:45:18.218660",
     "status": "completed"
    },
    "tags": []
   },
   "source": [
    "Next I want to start exploring relationships. First, I'll explore the relationship between sleep and total time in bed. Observing this particular data in hours vs. minutes will make more sense so, I'll convert minutes to hours. "
   ]
  },
  {
   "cell_type": "code",
   "execution_count": 26,
   "id": "7397b362",
   "metadata": {
    "execution": {
     "iopub.execute_input": "2023-05-01T20:45:18.276830Z",
     "iopub.status.busy": "2023-05-01T20:45:18.275533Z",
     "iopub.status.idle": "2023-05-01T20:45:18.293061Z",
     "shell.execute_reply": "2023-05-01T20:45:18.291804Z"
    },
    "papermill": {
     "duration": 0.040182,
     "end_time": "2023-05-01T20:45:18.295186",
     "exception": false,
     "start_time": "2023-05-01T20:45:18.255004",
     "status": "completed"
    },
    "tags": []
   },
   "outputs": [
    {
     "data": {
      "text/html": [
       "7.64138211382114"
      ],
      "text/latex": [
       "7.64138211382114"
      ],
      "text/markdown": [
       "7.64138211382114"
      ],
      "text/plain": [
       "[1] 7.641382"
      ]
     },
     "metadata": {},
     "output_type": "display_data"
    },
    {
     "data": {
      "text/html": [
       "6.98621951219512"
      ],
      "text/latex": [
       "6.98621951219512"
      ],
      "text/markdown": [
       "6.98621951219512"
      ],
      "text/plain": [
       "[1] 6.98622"
      ]
     },
     "metadata": {},
     "output_type": "display_data"
    }
   ],
   "source": [
    "# get means and convert from minutes to hours\n",
    "mean(daily_activity_sleep$total_time_in_bed) / 60\n",
    "mean(daily_activity_sleep$total_minutes_asleep) / 60"
   ]
  },
  {
   "cell_type": "markdown",
   "id": "83506b1d",
   "metadata": {
    "papermill": {
     "duration": 0.018781,
     "end_time": "2023-05-01T20:45:18.332895",
     "exception": false,
     "start_time": "2023-05-01T20:45:18.314114",
     "status": "completed"
    },
    "tags": []
   },
   "source": [
    "I want to see how long the users were in bed awake as compared to sleeping so, I'll subtract total_time_in_bed - total_minutes_asleep to get total time awake. I can tell from the above that it's under an hour so, I'll leave this in minutes. "
   ]
  },
  {
   "cell_type": "code",
   "execution_count": 27,
   "id": "e6107678",
   "metadata": {
    "execution": {
     "iopub.execute_input": "2023-05-01T20:45:18.372763Z",
     "iopub.status.busy": "2023-05-01T20:45:18.371431Z",
     "iopub.status.idle": "2023-05-01T20:45:18.385003Z",
     "shell.execute_reply": "2023-05-01T20:45:18.383588Z"
    },
    "papermill": {
     "duration": 0.035788,
     "end_time": "2023-05-01T20:45:18.386989",
     "exception": false,
     "start_time": "2023-05-01T20:45:18.351201",
     "status": "completed"
    },
    "tags": []
   },
   "outputs": [
    {
     "data": {
      "text/html": [
       "39.309756097561"
      ],
      "text/latex": [
       "39.309756097561"
      ],
      "text/markdown": [
       "39.309756097561"
      ],
      "text/plain": [
       "[1] 39.30976"
      ]
     },
     "metadata": {},
     "output_type": "display_data"
    }
   ],
   "source": [
    "# get total time awake\n",
    "mean(daily_activity_sleep$total_time_in_bed) - mean(daily_activity_sleep$total_minutes_asleep)"
   ]
  },
  {
   "cell_type": "markdown",
   "id": "05ef2e86",
   "metadata": {
    "papermill": {
     "duration": 0.018689,
     "end_time": "2023-05-01T20:45:18.424365",
     "exception": false,
     "start_time": "2023-05-01T20:45:18.405676",
     "status": "completed"
    },
    "tags": []
   },
   "source": [
    "**Findings:** \n",
    "\n",
    "Users spent an average of 7.6 hours in bed. They slept an average of 7 hours and were awake for an average of 39 minutes. My initial thought was - it takes the user an average of 39 minutes to fall asleep BUT it could be a number of factors: reading, sex, etc. This data is inclusive.\n",
    "\n",
    "**However, we do know they're sleeping an average of 7 hours a night which falls within the recommended amount of 7-9 hours.   **"
   ]
  },
  {
   "cell_type": "markdown",
   "id": "df89ca3d",
   "metadata": {
    "papermill": {
     "duration": 0.018385,
     "end_time": "2023-05-01T20:45:18.461079",
     "exception": false,
     "start_time": "2023-05-01T20:45:18.442694",
     "status": "completed"
    },
    "tags": []
   },
   "source": [
    "I want to see more averages for further understanding of the data. "
   ]
  },
  {
   "cell_type": "code",
   "execution_count": 28,
   "id": "34f20c16",
   "metadata": {
    "execution": {
     "iopub.execute_input": "2023-05-01T20:45:18.501501Z",
     "iopub.status.busy": "2023-05-01T20:45:18.500124Z",
     "iopub.status.idle": "2023-05-01T20:45:18.530059Z",
     "shell.execute_reply": "2023-05-01T20:45:18.528663Z"
    },
    "papermill": {
     "duration": 0.052323,
     "end_time": "2023-05-01T20:45:18.532111",
     "exception": false,
     "start_time": "2023-05-01T20:45:18.479788",
     "status": "completed"
    },
    "tags": []
   },
   "outputs": [
    {
     "data": {
      "text/html": [
       "8514.90975609756"
      ],
      "text/latex": [
       "8514.90975609756"
      ],
      "text/markdown": [
       "8514.90975609756"
      ],
      "text/plain": [
       "[1] 8514.91"
      ]
     },
     "metadata": {},
     "output_type": "display_data"
    },
    {
     "data": {
      "text/html": [
       "216.541463414634"
      ],
      "text/latex": [
       "216.541463414634"
      ],
      "text/markdown": [
       "216.541463414634"
      ],
      "text/plain": [
       "[1] 216.5415"
      ]
     },
     "metadata": {},
     "output_type": "display_data"
    },
    {
     "data": {
      "text/html": [
       "17.9243902439024"
      ],
      "text/latex": [
       "17.9243902439024"
      ],
      "text/markdown": [
       "17.9243902439024"
      ],
      "text/plain": [
       "[1] 17.92439"
      ]
     },
     "metadata": {},
     "output_type": "display_data"
    },
    {
     "data": {
      "text/html": [
       "25.0463414634146"
      ],
      "text/latex": [
       "25.0463414634146"
      ],
      "text/markdown": [
       "25.0463414634146"
      ],
      "text/plain": [
       "[1] 25.04634"
      ]
     },
     "metadata": {},
     "output_type": "display_data"
    },
    {
     "data": {
      "text/html": [
       "712.1"
      ],
      "text/latex": [
       "712.1"
      ],
      "text/markdown": [
       "712.1"
      ],
      "text/plain": [
       "[1] 712.1"
      ]
     },
     "metadata": {},
     "output_type": "display_data"
    }
   ],
   "source": [
    "# get means\n",
    "mean(daily_activity_sleep$total_steps)\n",
    "mean(daily_activity_sleep$lightly_active_minutes)\n",
    "mean(daily_activity_sleep$fairly_active_minutes)\n",
    "mean(daily_activity_sleep$very_active_minutes)\n",
    "mean(daily_activity_sleep$sedentary_minutes) \n"
   ]
  },
  {
   "cell_type": "markdown",
   "id": "9128455d",
   "metadata": {
    "papermill": {
     "duration": 0.020174,
     "end_time": "2023-05-01T20:45:18.572078",
     "exception": false,
     "start_time": "2023-05-01T20:45:18.551904",
     "status": "completed"
    },
    "tags": []
   },
   "source": [
    "Based on the above, lightly_active_minutes and sedentary_minutes will make more sense in hours. "
   ]
  },
  {
   "cell_type": "code",
   "execution_count": 29,
   "id": "1256b446",
   "metadata": {
    "execution": {
     "iopub.execute_input": "2023-05-01T20:45:18.614471Z",
     "iopub.status.busy": "2023-05-01T20:45:18.613094Z",
     "iopub.status.idle": "2023-05-01T20:45:18.632275Z",
     "shell.execute_reply": "2023-05-01T20:45:18.630836Z"
    },
    "papermill": {
     "duration": 0.041769,
     "end_time": "2023-05-01T20:45:18.634108",
     "exception": false,
     "start_time": "2023-05-01T20:45:18.592339",
     "status": "completed"
    },
    "tags": []
   },
   "outputs": [
    {
     "data": {
      "text/html": [
       "3.6090243902439"
      ],
      "text/latex": [
       "3.6090243902439"
      ],
      "text/markdown": [
       "3.6090243902439"
      ],
      "text/plain": [
       "[1] 3.609024"
      ]
     },
     "metadata": {},
     "output_type": "display_data"
    },
    {
     "data": {
      "text/html": [
       "11.8683333333333"
      ],
      "text/latex": [
       "11.8683333333333"
      ],
      "text/markdown": [
       "11.8683333333333"
      ],
      "text/plain": [
       "[1] 11.86833"
      ]
     },
     "metadata": {},
     "output_type": "display_data"
    }
   ],
   "source": [
    "# get means and convert to hours\n",
    "mean(daily_activity_sleep$lightly_active_minutes) / 60\n",
    "mean(daily_activity_sleep$sedentary_minutes) /60\n"
   ]
  },
  {
   "cell_type": "code",
   "execution_count": 30,
   "id": "06d5dcd8",
   "metadata": {
    "execution": {
     "iopub.execute_input": "2023-05-01T20:45:18.676381Z",
     "iopub.status.busy": "2023-05-01T20:45:18.675019Z",
     "iopub.status.idle": "2023-05-01T20:45:18.696779Z",
     "shell.execute_reply": "2023-05-01T20:45:18.695452Z"
    },
    "papermill": {
     "duration": 0.044346,
     "end_time": "2023-05-01T20:45:18.698649",
     "exception": false,
     "start_time": "2023-05-01T20:45:18.654303",
     "status": "completed"
    },
    "tags": []
   },
   "outputs": [
    {
     "data": {
      "text/html": [
       "3.79112195185408"
      ],
      "text/latex": [
       "3.79112195185408"
      ],
      "text/markdown": [
       "3.79112195185408"
      ],
      "text/plain": [
       "[1] 3.791122"
      ]
     },
     "metadata": {},
     "output_type": "display_data"
    },
    {
     "data": {
      "text/html": [
       "0.743902436839189"
      ],
      "text/latex": [
       "0.743902436839189"
      ],
      "text/markdown": [
       "0.743902436839189"
      ],
      "text/plain": [
       "[1] 0.7439024"
      ]
     },
     "metadata": {},
     "output_type": "display_data"
    },
    {
     "data": {
      "text/html": [
       "1.44621951025797"
      ],
      "text/latex": [
       "1.44621951025797"
      ],
      "text/markdown": [
       "1.44621951025797"
      ],
      "text/plain": [
       "[1] 1.44622"
      ]
     },
     "metadata": {},
     "output_type": "display_data"
    }
   ],
   "source": [
    "# get remaining means (distance)\n",
    "mean(daily_activity_sleep$light_active_distance)\n",
    "mean(daily_activity_sleep$moderately_active_distance)\n",
    "mean(daily_activity_sleep$very_active_distance)"
   ]
  },
  {
   "cell_type": "markdown",
   "id": "f1d1157e",
   "metadata": {
    "papermill": {
     "duration": 0.020503,
     "end_time": "2023-05-01T20:45:18.739625",
     "exception": false,
     "start_time": "2023-05-01T20:45:18.719122",
     "status": "completed"
    },
    "tags": []
   },
   "source": [
    "**Limitation:**   \n",
    "\n",
    "The measure of distance is unknown. Is it miles, kilometers, some other measure? "
   ]
  },
  {
   "cell_type": "markdown",
   "id": "025e65d0",
   "metadata": {
    "papermill": {
     "duration": 0.020282,
     "end_time": "2023-05-01T20:45:18.779467",
     "exception": false,
     "start_time": "2023-05-01T20:45:18.759185",
     "status": "completed"
    },
    "tags": []
   },
   "source": [
    "**Findings for Further Analyis:** \n",
    "\n",
    "The users take an average of 8515 steps a day and sleep an average of 7 hours a night. \n",
    "Their average activity levels are broken down as follows: \n",
    "* sedentary = 11.9 hours\n",
    "* lightly active = 3.6 hours\n",
    "* fairly active = 17.9 minutes\n",
    "* very active = 25 minutes"
   ]
  },
  {
   "cell_type": "markdown",
   "id": "e67c752e",
   "metadata": {
    "papermill": {
     "duration": 0.018985,
     "end_time": "2023-05-01T20:45:18.817659",
     "exception": false,
     "start_time": "2023-05-01T20:45:18.798674",
     "status": "completed"
    },
    "tags": []
   },
   "source": [
    "I want to consolidate time the users are active to compare with time the users are sedentary. "
   ]
  },
  {
   "cell_type": "code",
   "execution_count": 31,
   "id": "773b04b1",
   "metadata": {
    "execution": {
     "iopub.execute_input": "2023-05-01T20:45:18.861669Z",
     "iopub.status.busy": "2023-05-01T20:45:18.860415Z",
     "iopub.status.idle": "2023-05-01T20:45:18.875508Z",
     "shell.execute_reply": "2023-05-01T20:45:18.873739Z"
    },
    "papermill": {
     "duration": 0.04455,
     "end_time": "2023-05-01T20:45:18.882480",
     "exception": false,
     "start_time": "2023-05-01T20:45:18.837930",
     "status": "completed"
    },
    "tags": []
   },
   "outputs": [
    {
     "data": {
      "text/html": [
       "4.32520325203252"
      ],
      "text/latex": [
       "4.32520325203252"
      ],
      "text/markdown": [
       "4.32520325203252"
      ],
      "text/plain": [
       "[1] 4.325203"
      ]
     },
     "metadata": {},
     "output_type": "display_data"
    }
   ],
   "source": [
    "(mean(daily_activity_sleep$lightly_active_minutes) + mean(daily_activity_sleep$fairly_active_minutes) + \n",
    " mean(daily_activity_sleep$very_active_minutes)) /60"
   ]
  },
  {
   "cell_type": "markdown",
   "id": "f0c877d8",
   "metadata": {
    "papermill": {
     "duration": 0.019174,
     "end_time": "2023-05-01T20:45:18.921098",
     "exception": false,
     "start_time": "2023-05-01T20:45:18.901924",
     "status": "completed"
    },
    "tags": []
   },
   "source": [
    "Data shows users are active on some level an average of 4.32 hours a day."
   ]
  },
  {
   "cell_type": "markdown",
   "id": "d1fee45e",
   "metadata": {
    "papermill": {
     "duration": 0.01912,
     "end_time": "2023-05-01T20:45:18.959615",
     "exception": false,
     "start_time": "2023-05-01T20:45:18.940495",
     "status": "completed"
    },
    "tags": []
   },
   "source": [
    "**Analyze for Trends:**\n",
    "\n",
    "I'll add a column to include corresponding days of the week in order to look for trends. "
   ]
  },
  {
   "cell_type": "code",
   "execution_count": 32,
   "id": "baf2db44",
   "metadata": {
    "execution": {
     "iopub.execute_input": "2023-05-01T20:45:19.001553Z",
     "iopub.status.busy": "2023-05-01T20:45:19.000371Z",
     "iopub.status.idle": "2023-05-01T20:45:19.031190Z",
     "shell.execute_reply": "2023-05-01T20:45:19.029313Z"
    },
    "papermill": {
     "duration": 0.054585,
     "end_time": "2023-05-01T20:45:19.033590",
     "exception": false,
     "start_time": "2023-05-01T20:45:18.979005",
     "status": "completed"
    },
    "tags": []
   },
   "outputs": [
    {
     "data": {
      "text/html": [
       "<table class=\"dataframe\">\n",
       "<caption>A data.frame: 6 × 16</caption>\n",
       "<thead>\n",
       "\t<tr><th></th><th scope=col>id</th><th scope=col>date</th><th scope=col>total_steps</th><th scope=col>total_distance</th><th scope=col>very_active_distance</th><th scope=col>moderately_active_distance</th><th scope=col>light_active_distance</th><th scope=col>very_active_minutes</th><th scope=col>fairly_active_minutes</th><th scope=col>lightly_active_minutes</th><th scope=col>sedentary_minutes</th><th scope=col>calories</th><th scope=col>total_sleep_records</th><th scope=col>total_minutes_asleep</th><th scope=col>total_time_in_bed</th><th scope=col>day_of_week</th></tr>\n",
       "\t<tr><th></th><th scope=col>&lt;dbl&gt;</th><th scope=col>&lt;date&gt;</th><th scope=col>&lt;int&gt;</th><th scope=col>&lt;dbl&gt;</th><th scope=col>&lt;dbl&gt;</th><th scope=col>&lt;dbl&gt;</th><th scope=col>&lt;dbl&gt;</th><th scope=col>&lt;int&gt;</th><th scope=col>&lt;int&gt;</th><th scope=col>&lt;int&gt;</th><th scope=col>&lt;int&gt;</th><th scope=col>&lt;int&gt;</th><th scope=col>&lt;int&gt;</th><th scope=col>&lt;int&gt;</th><th scope=col>&lt;int&gt;</th><th scope=col>&lt;ord&gt;</th></tr>\n",
       "</thead>\n",
       "<tbody>\n",
       "\t<tr><th scope=row>1</th><td>1503960366</td><td>2016-04-12</td><td>13162</td><td>8.50</td><td>1.88</td><td>0.55</td><td>6.06</td><td>25</td><td>13</td><td>328</td><td>728</td><td>1985</td><td>1</td><td>327</td><td>346</td><td>Tue</td></tr>\n",
       "\t<tr><th scope=row>2</th><td>1503960366</td><td>2016-04-13</td><td>10735</td><td>6.97</td><td>1.57</td><td>0.69</td><td>4.71</td><td>21</td><td>19</td><td>217</td><td>776</td><td>1797</td><td>2</td><td>384</td><td>407</td><td>Wed</td></tr>\n",
       "\t<tr><th scope=row>3</th><td>1503960366</td><td>2016-04-15</td><td> 9762</td><td>6.28</td><td>2.14</td><td>1.26</td><td>2.83</td><td>29</td><td>34</td><td>209</td><td>726</td><td>1745</td><td>1</td><td>412</td><td>442</td><td>Fri</td></tr>\n",
       "\t<tr><th scope=row>4</th><td>1503960366</td><td>2016-04-16</td><td>12669</td><td>8.16</td><td>2.71</td><td>0.41</td><td>5.04</td><td>36</td><td>10</td><td>221</td><td>773</td><td>1863</td><td>2</td><td>340</td><td>367</td><td>Sat</td></tr>\n",
       "\t<tr><th scope=row>5</th><td>1503960366</td><td>2016-04-17</td><td> 9705</td><td>6.48</td><td>3.19</td><td>0.78</td><td>2.51</td><td>38</td><td>20</td><td>164</td><td>539</td><td>1728</td><td>1</td><td>700</td><td>712</td><td>Sun</td></tr>\n",
       "\t<tr><th scope=row>6</th><td>1503960366</td><td>2016-04-19</td><td>15506</td><td>9.88</td><td>3.53</td><td>1.32</td><td>5.03</td><td>50</td><td>31</td><td>264</td><td>775</td><td>2035</td><td>1</td><td>304</td><td>320</td><td>Tue</td></tr>\n",
       "</tbody>\n",
       "</table>\n"
      ],
      "text/latex": [
       "A data.frame: 6 × 16\n",
       "\\begin{tabular}{r|llllllllllllllll}\n",
       "  & id & date & total\\_steps & total\\_distance & very\\_active\\_distance & moderately\\_active\\_distance & light\\_active\\_distance & very\\_active\\_minutes & fairly\\_active\\_minutes & lightly\\_active\\_minutes & sedentary\\_minutes & calories & total\\_sleep\\_records & total\\_minutes\\_asleep & total\\_time\\_in\\_bed & day\\_of\\_week\\\\\n",
       "  & <dbl> & <date> & <int> & <dbl> & <dbl> & <dbl> & <dbl> & <int> & <int> & <int> & <int> & <int> & <int> & <int> & <int> & <ord>\\\\\n",
       "\\hline\n",
       "\t1 & 1503960366 & 2016-04-12 & 13162 & 8.50 & 1.88 & 0.55 & 6.06 & 25 & 13 & 328 & 728 & 1985 & 1 & 327 & 346 & Tue\\\\\n",
       "\t2 & 1503960366 & 2016-04-13 & 10735 & 6.97 & 1.57 & 0.69 & 4.71 & 21 & 19 & 217 & 776 & 1797 & 2 & 384 & 407 & Wed\\\\\n",
       "\t3 & 1503960366 & 2016-04-15 &  9762 & 6.28 & 2.14 & 1.26 & 2.83 & 29 & 34 & 209 & 726 & 1745 & 1 & 412 & 442 & Fri\\\\\n",
       "\t4 & 1503960366 & 2016-04-16 & 12669 & 8.16 & 2.71 & 0.41 & 5.04 & 36 & 10 & 221 & 773 & 1863 & 2 & 340 & 367 & Sat\\\\\n",
       "\t5 & 1503960366 & 2016-04-17 &  9705 & 6.48 & 3.19 & 0.78 & 2.51 & 38 & 20 & 164 & 539 & 1728 & 1 & 700 & 712 & Sun\\\\\n",
       "\t6 & 1503960366 & 2016-04-19 & 15506 & 9.88 & 3.53 & 1.32 & 5.03 & 50 & 31 & 264 & 775 & 2035 & 1 & 304 & 320 & Tue\\\\\n",
       "\\end{tabular}\n"
      ],
      "text/markdown": [
       "\n",
       "A data.frame: 6 × 16\n",
       "\n",
       "| <!--/--> | id &lt;dbl&gt; | date &lt;date&gt; | total_steps &lt;int&gt; | total_distance &lt;dbl&gt; | very_active_distance &lt;dbl&gt; | moderately_active_distance &lt;dbl&gt; | light_active_distance &lt;dbl&gt; | very_active_minutes &lt;int&gt; | fairly_active_minutes &lt;int&gt; | lightly_active_minutes &lt;int&gt; | sedentary_minutes &lt;int&gt; | calories &lt;int&gt; | total_sleep_records &lt;int&gt; | total_minutes_asleep &lt;int&gt; | total_time_in_bed &lt;int&gt; | day_of_week &lt;ord&gt; |\n",
       "|---|---|---|---|---|---|---|---|---|---|---|---|---|---|---|---|---|\n",
       "| 1 | 1503960366 | 2016-04-12 | 13162 | 8.50 | 1.88 | 0.55 | 6.06 | 25 | 13 | 328 | 728 | 1985 | 1 | 327 | 346 | Tue |\n",
       "| 2 | 1503960366 | 2016-04-13 | 10735 | 6.97 | 1.57 | 0.69 | 4.71 | 21 | 19 | 217 | 776 | 1797 | 2 | 384 | 407 | Wed |\n",
       "| 3 | 1503960366 | 2016-04-15 |  9762 | 6.28 | 2.14 | 1.26 | 2.83 | 29 | 34 | 209 | 726 | 1745 | 1 | 412 | 442 | Fri |\n",
       "| 4 | 1503960366 | 2016-04-16 | 12669 | 8.16 | 2.71 | 0.41 | 5.04 | 36 | 10 | 221 | 773 | 1863 | 2 | 340 | 367 | Sat |\n",
       "| 5 | 1503960366 | 2016-04-17 |  9705 | 6.48 | 3.19 | 0.78 | 2.51 | 38 | 20 | 164 | 539 | 1728 | 1 | 700 | 712 | Sun |\n",
       "| 6 | 1503960366 | 2016-04-19 | 15506 | 9.88 | 3.53 | 1.32 | 5.03 | 50 | 31 | 264 | 775 | 2035 | 1 | 304 | 320 | Tue |\n",
       "\n"
      ],
      "text/plain": [
       "  id         date       total_steps total_distance very_active_distance\n",
       "1 1503960366 2016-04-12 13162       8.50           1.88                \n",
       "2 1503960366 2016-04-13 10735       6.97           1.57                \n",
       "3 1503960366 2016-04-15  9762       6.28           2.14                \n",
       "4 1503960366 2016-04-16 12669       8.16           2.71                \n",
       "5 1503960366 2016-04-17  9705       6.48           3.19                \n",
       "6 1503960366 2016-04-19 15506       9.88           3.53                \n",
       "  moderately_active_distance light_active_distance very_active_minutes\n",
       "1 0.55                       6.06                  25                 \n",
       "2 0.69                       4.71                  21                 \n",
       "3 1.26                       2.83                  29                 \n",
       "4 0.41                       5.04                  36                 \n",
       "5 0.78                       2.51                  38                 \n",
       "6 1.32                       5.03                  50                 \n",
       "  fairly_active_minutes lightly_active_minutes sedentary_minutes calories\n",
       "1 13                    328                    728               1985    \n",
       "2 19                    217                    776               1797    \n",
       "3 34                    209                    726               1745    \n",
       "4 10                    221                    773               1863    \n",
       "5 20                    164                    539               1728    \n",
       "6 31                    264                    775               2035    \n",
       "  total_sleep_records total_minutes_asleep total_time_in_bed day_of_week\n",
       "1 1                   327                  346               Tue        \n",
       "2 2                   384                  407               Wed        \n",
       "3 1                   412                  442               Fri        \n",
       "4 2                   340                  367               Sat        \n",
       "5 1                   700                  712               Sun        \n",
       "6 1                   304                  320               Tue        "
      ]
     },
     "metadata": {},
     "output_type": "display_data"
    }
   ],
   "source": [
    "daily_activity_sleep$day_of_week <- wday(daily_activity_sleep$date, label=TRUE)\n",
    "head(daily_activity_sleep)"
   ]
  },
  {
   "cell_type": "markdown",
   "id": "64eada36",
   "metadata": {
    "papermill": {
     "duration": 0.020058,
     "end_time": "2023-05-01T20:45:19.074077",
     "exception": false,
     "start_time": "2023-05-01T20:45:19.054019",
     "status": "completed"
    },
    "tags": []
   },
   "source": [
    "# Share"
   ]
  },
  {
   "cell_type": "markdown",
   "id": "ddfcda62",
   "metadata": {
    "papermill": {
     "duration": 0.019454,
     "end_time": "2023-05-01T20:45:19.113242",
     "exception": false,
     "start_time": "2023-05-01T20:45:19.093788",
     "status": "completed"
    },
    "tags": []
   },
   "source": [
    "**Findings:**\n",
    "\n",
    "The users take an average of 8515 steps a day (which is more than the recommended daily amount) and sleep an average of 7 hours a night (which falls within the recommended amount). They're active on some level for an average of 4.3 hours a day and are sedentary 11.9 hours a day. This data indicates the target market to be those that work at a sedentary jobs possibly with commute time but make an effort to stay active. \n",
    "\n",
    "\n",
    "Recommended daily amount of steps (revised from 10,000 to 7000-8000)| Reference: [JAMA Intern Med. 2019;179(8):1105-1112. doi:10.1001/jamainternmed.2019.0899](https://jamanetwork.com/journals/jamainternalmedicine/fullarticle/2734709/)\n",
    "\n",
    "Recommended daily amount of sleep (7-9 hours) | Reference: https://www.nhlbi.nih.gov/health/sleep/how-much-sleep \n"
   ]
  },
  {
   "cell_type": "markdown",
   "id": "53b52db8",
   "metadata": {
    "papermill": {
     "duration": 0.019346,
     "end_time": "2023-05-01T20:45:19.152139",
     "exception": false,
     "start_time": "2023-05-01T20:45:19.132793",
     "status": "completed"
    },
    "tags": []
   },
   "source": [
    "**Visualizations to help show the relationships between the data.**"
   ]
  },
  {
   "cell_type": "code",
   "execution_count": 33,
   "id": "56ee11df",
   "metadata": {
    "execution": {
     "iopub.execute_input": "2023-05-01T20:45:19.194402Z",
     "iopub.status.busy": "2023-05-01T20:45:19.193245Z",
     "iopub.status.idle": "2023-05-01T20:45:19.713160Z",
     "shell.execute_reply": "2023-05-01T20:45:19.711802Z"
    },
    "papermill": {
     "duration": 0.543209,
     "end_time": "2023-05-01T20:45:19.715086",
     "exception": false,
     "start_time": "2023-05-01T20:45:19.171877",
     "status": "completed"
    },
    "tags": []
   },
   "outputs": [
    {
     "data": {
      "image/png": "[encoded data removed]"
     },
     "metadata": {
      "image/png": {
       "height": 420,
       "width": 420
      }
     },
     "output_type": "display_data"
    }
   ],
   "source": [
    "ggplot(data = daily_activity_sleep) +\n",
    "  geom_bar(mapping = aes(x = day_of_week, fill = 'orange')) +\n",
    "  labs(title = \"Daily Device Usage\", x = \"Day of the Week\")"
   ]
  },
  {
   "cell_type": "markdown",
   "id": "09ced3a1",
   "metadata": {
    "papermill": {
     "duration": 0.019908,
     "end_time": "2023-05-01T20:45:19.755794",
     "exception": false,
     "start_time": "2023-05-01T20:45:19.735886",
     "status": "completed"
    },
    "tags": []
   },
   "source": [
    "**Findings:**\n",
    "\n",
    "Device usage is fairly consistent throughout the week dipping on Mondays and peaking midweek. "
   ]
  },
  {
   "cell_type": "code",
   "execution_count": 34,
   "id": "7f9ac7d9",
   "metadata": {
    "execution": {
     "iopub.execute_input": "2023-05-01T20:45:19.798766Z",
     "iopub.status.busy": "2023-05-01T20:45:19.797457Z",
     "iopub.status.idle": "2023-05-01T20:45:20.004684Z",
     "shell.execute_reply": "2023-05-01T20:45:20.003414Z"
    },
    "papermill": {
     "duration": 0.231054,
     "end_time": "2023-05-01T20:45:20.006840",
     "exception": false,
     "start_time": "2023-05-01T20:45:19.775786",
     "status": "completed"
    },
    "tags": []
   },
   "outputs": [
    {
     "data": {
      "image/png": "[encoded data removed]"
     },
     "metadata": {
      "image/png": {
       "height": 420,
       "width": 420
      }
     },
     "output_type": "display_data"
    }
   ],
   "source": [
    "ggplot(data = daily_activity_sleep) +\n",
    "  geom_line(mapping = aes(x = day_of_week, y = very_active_minutes)) +\n",
    "  labs(title = \"Very Active Minutes Per Day\", x = \"Day of the Week\")"
   ]
  },
  {
   "cell_type": "markdown",
   "id": "5c9783a9",
   "metadata": {
    "papermill": {
     "duration": 0.020765,
     "end_time": "2023-05-01T20:45:20.048360",
     "exception": false,
     "start_time": "2023-05-01T20:45:20.027595",
     "status": "completed"
    },
    "tags": []
   },
   "source": [
    "**Findings:**\n",
    "\n",
    "Users are \"very active\" more on weekends. "
   ]
  },
  {
   "cell_type": "code",
   "execution_count": 35,
   "id": "135ac36b",
   "metadata": {
    "execution": {
     "iopub.execute_input": "2023-05-01T20:45:20.093215Z",
     "iopub.status.busy": "2023-05-01T20:45:20.091822Z",
     "iopub.status.idle": "2023-05-01T20:45:20.299097Z",
     "shell.execute_reply": "2023-05-01T20:45:20.297688Z"
    },
    "papermill": {
     "duration": 0.23216,
     "end_time": "2023-05-01T20:45:20.301492",
     "exception": false,
     "start_time": "2023-05-01T20:45:20.069332",
     "status": "completed"
    },
    "tags": []
   },
   "outputs": [
    {
     "data": {
      "image/png": "[encoded data removed]"
     },
     "metadata": {
      "image/png": {
       "height": 420,
       "width": 420
      }
     },
     "output_type": "display_data"
    }
   ],
   "source": [
    "ggplot(data = daily_activity_sleep) +\n",
    "  geom_line(mapping = aes(x = day_of_week, y = fairly_active_minutes)) +\n",
    "  labs(title = \"Fairly Active Minutes Per Day\", x = \"Day of the Week\")"
   ]
  },
  {
   "cell_type": "markdown",
   "id": "5e5127e0",
   "metadata": {
    "papermill": {
     "duration": 0.021095,
     "end_time": "2023-05-01T20:45:20.343934",
     "exception": false,
     "start_time": "2023-05-01T20:45:20.322839",
     "status": "completed"
    },
    "tags": []
   },
   "source": [
    "**Findings:**\n",
    "\n",
    "Users peak as \"fairly active\" at the beginning of the week and trend down by Friday with some uptick over the weekend. "
   ]
  },
  {
   "cell_type": "code",
   "execution_count": 36,
   "id": "3d3e7728",
   "metadata": {
    "execution": {
     "iopub.execute_input": "2023-05-01T20:45:20.390292Z",
     "iopub.status.busy": "2023-05-01T20:45:20.388899Z",
     "iopub.status.idle": "2023-05-01T20:45:21.743544Z",
     "shell.execute_reply": "2023-05-01T20:45:21.742083Z"
    },
    "papermill": {
     "duration": 1.38037,
     "end_time": "2023-05-01T20:45:21.745811",
     "exception": false,
     "start_time": "2023-05-01T20:45:20.365441",
     "status": "completed"
    },
    "tags": []
   },
   "outputs": [
    {
     "name": "stderr",
     "output_type": "stream",
     "text": [
      "\u001b[1m\u001b[22m`geom_smooth()` using method = 'loess' and formula = 'y ~ x'\n"
     ]
    },
    {
     "data": {
      "image/png": "[encoded data removed]"
     },
     "metadata": {
      "image/png": {
       "height": 420,
       "width": 420
      }
     },
     "output_type": "display_data"
    }
   ],
   "source": [
    "ggplot(data = daily_activity_sleep) +\n",
    "    geom_point(mapping = aes(x = total_steps, y = total_minutes_asleep, color = \"darkblue\")) +\n",
    "    geom_smooth(mapping = aes(x = total_steps, y = total_minutes_asleep)) +\n",
    "    labs(title = \"Relationship Between Number of Steps and Sleep\")"
   ]
  },
  {
   "cell_type": "markdown",
   "id": "a27b1d61",
   "metadata": {
    "papermill": {
     "duration": 0.024393,
     "end_time": "2023-05-01T20:45:21.792629",
     "exception": false,
     "start_time": "2023-05-01T20:45:21.768236",
     "status": "completed"
    },
    "tags": []
   },
   "source": [
    "There doesn't appear to be a relationship between total steps and total minutes asleep."
   ]
  },
  {
   "cell_type": "markdown",
   "id": "7d093fa9",
   "metadata": {
    "papermill": {
     "duration": 0.022534,
     "end_time": "2023-05-01T20:45:21.837859",
     "exception": false,
     "start_time": "2023-05-01T20:45:21.815325",
     "status": "completed"
    },
    "tags": []
   },
   "source": [
    "**Indications:**\n",
    "\n",
    "1. The data indicates the devices are mainly used to track activity levels and sleep. \n",
    "\n",
    "2. The trends indicate users to be consistent with device usage throughout the week."
   ]
  },
  {
   "cell_type": "markdown",
   "id": "244b0572",
   "metadata": {
    "papermill": {
     "duration": 0.022776,
     "end_time": "2023-05-01T20:45:21.882946",
     "exception": false,
     "start_time": "2023-05-01T20:45:21.860170",
     "status": "completed"
    },
    "tags": []
   },
   "source": [
    "# Act: Marketing Strategy Recommendations"
   ]
  },
  {
   "cell_type": "markdown",
   "id": "0f9779c5",
   "metadata": {
    "papermill": {
     "duration": 0.023038,
     "end_time": "2023-05-01T20:45:21.928301",
     "exception": false,
     "start_time": "2023-05-01T20:45:21.905263",
     "status": "completed"
    },
    "tags": []
   },
   "source": [
    "**Chosen Product: Bellabeat's Leaf: Bellabeat’s Classic Wellness Tracker** \n",
    "\n",
    "Because of it's simplicity and versatility (it can be worn as a bracelet, necklace, or clip), the Leaf is probably the easiest to wear throughout the workday and the weekend as well as during activity and during sleep. \n",
    "\n",
    "The Leaf tracker connects to the Bellabeat app to track activity, sleep, and stress. As previously mentioned, according to the data analyzed, activity and sleep are what's tracked most consistently throughout the week."
   ]
  },
  {
   "cell_type": "markdown",
   "id": "30979a9a",
   "metadata": {
    "papermill": {
     "duration": 0.023717,
     "end_time": "2023-05-01T20:45:21.974928",
     "exception": false,
     "start_time": "2023-05-01T20:45:21.951211",
     "status": "completed"
    },
    "tags": []
   },
   "source": [
    "**Marketing Strategy:**\n",
    "\n",
    "I recommend A/B testing the Leaf's 'aesthetic' vs. its 'functionality' to determine which KPIs show higher click-through and conversion rates. *Is it favored as jewelry first and a wellness tracker second or vice versa.* \n",
    "\n",
    "IF:\n",
    "\n",
    "1. Jewelry/Aesthetic has stronger KPIs: expand the line to include additional designs (i.e. flower, butterfly, etc) and maximize influencer relationships to drive promotion and sales. \n",
    "\n",
    "2. Wellness Tracker has stronger KPIs: expand the line to include additional technological features (i.e. notifications and/or targeted marketing messages/blog posts based on how individuals are using their devices. The goal would be to promote adherence in order to keep their subscriptions ongoing.  "
   ]
  }
 ],
 "metadata": {
  "kernelspec": {
   "display_name": "R",
   "language": "R",
   "name": "ir"
  },
  "language_info": {
   "codemirror_mode": "r",
   "file_extension": ".r",
   "mimetype": "text/x-r-source",
   "name": "R",
   "pygments_lexer": "r",
   "version": "4.0.5"
  },
  "papermill": {
   "default_parameters": {},
   "duration": 131.144937,
   "end_time": "2023-05-01T20:45:22.118123",
   "environment_variables": {},
   "exception": null,
   "input_path": "__notebook__.ipynb",
   "output_path": "__notebook__.ipynb",
   "parameters": {},
   "start_time": "2023-05-01T20:43:10.973186",
   "version": "2.4.0"
  }
 },
 "nbformat": 4,
 "nbformat_minor": 5
}
